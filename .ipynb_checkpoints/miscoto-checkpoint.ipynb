{
 "cells": [
  {
   "cell_type": "code",
   "execution_count": 2,
   "metadata": {},
   "outputs": [
    {
     "name": "stdout",
     "output_type": "stream",
     "text": [
      "/mnt/Data/M2_IBI/BS2/Projet_TP/miscoto_tp/.venv_miscoto/lib/python3.10/site-packages/miscoto/encodings/community_minexch.lp\n"
     ]
    },
    {
     "data": {
      "text/plain": [
       "{'one_model_targetsproducers': {'f': ['host_metab_mod']},\n",
       " 'bacteria': ['orgB3'],\n",
       " 'still_unprod': [],\n",
       " 'newly_prod': ['f'],\n",
       " 'producible': [],\n",
       " 'one_model': {'newly_producible_target': ['f'],\n",
       "  'chosen_bacteria': ['orgB3'],\n",
       "  'target_producer_coop_selectedcom': {'f': ['host_metab_mod']},\n",
       "  'exchanged': ['e', 'c', 'orgB3', 'host_metab_mod']},\n",
       " 'exchanged': [{'what': ['e'], 'from_to': ('orgB3', 'host_metab_mod')}]}"
      ]
     },
     "execution_count": 2,
     "metadata": {},
     "output_type": "execute_result"
    }
   ],
   "source": [
    "import miscoto\n",
    "\n",
    "miscoto.run_mincom(\n",
    "    host_file='toy/orgA.xml',\n",
    "    bacteria_dir='toy/symbionts/',\n",
    "    seeds_file='toy/seeds.xml',\n",
    "    targets_file='toy/targets_A.xml',\n",
    "    option='minexch',\n",
    "    output_json=\"toy_result.json\"\n",
    "    )"
   ]
  },
  {
   "cell_type": "code",
   "execution_count": 1,
   "metadata": {},
   "outputs": [
    {
     "name": "stderr",
     "output_type": "stream",
     "text": [
      "No host provided\n"
     ]
    },
    {
     "name": "stdout",
     "output_type": "stream",
     "text": [
      "/mnt/Data/M2_IBI/BS2/Projet_TP/miscoto_tp/.venv_miscoto/lib/python3.10/site-packages/miscoto/encodings/community_minexch_nohost.lp\n"
     ]
    },
    {
     "data": {
      "text/plain": [
       "{'one_model_targetsproducers': {'CROQUETTES': ['Boucher'],\n",
       "  'ARMURE': ['Taneur_2'],\n",
       "  'POISSON_FUME': ['Taneur_2'],\n",
       "  'COUVERTURE': ['Berger_2'],\n",
       "  'ARC': ['Menuisier_2'],\n",
       "  'FLECHES': ['Biscotte'],\n",
       "  'LIME_A_GRIFFE': ['Forgeron']},\n",
       " 'bacteria': ['Berger_2',\n",
       "  'Menuisier_2',\n",
       "  'Forgeron',\n",
       "  'Biscotte',\n",
       "  'Boucher',\n",
       "  'Taneur_2'],\n",
       " 'still_unprod': [],\n",
       " 'newly_prod': ['FLECHES',\n",
       "  'LIME_A_GRIFFE',\n",
       "  'COUVERTURE',\n",
       "  'POISSON_FUME',\n",
       "  'CROQUETTES',\n",
       "  'ARMURE',\n",
       "  'ARC'],\n",
       " 'producible': [],\n",
       " 'one_model': {'target_producer_coop_selectedcom': {'CROQUETTES': ['Boucher'],\n",
       "   'ARMURE': ['Taneur_2'],\n",
       "   'POISSON_FUME': ['Taneur_2'],\n",
       "   'COUVERTURE': ['Berger_2'],\n",
       "   'ARC': ['Menuisier_2'],\n",
       "   'FLECHES': ['Biscotte'],\n",
       "   'LIME_A_GRIFFE': ['Forgeron']},\n",
       "  'exchanged': ['POINTE_DE_FER',\n",
       "   'c',\n",
       "   'Forgeron',\n",
       "   'Biscotte',\n",
       "   'TIGE_DE_BOIS',\n",
       "   'c',\n",
       "   'Menuisier_2',\n",
       "   'Biscotte'],\n",
       "  'newly_producible_target': ['FLECHES',\n",
       "   'LIME_A_GRIFFE',\n",
       "   'COUVERTURE',\n",
       "   'POISSON_FUME',\n",
       "   'CROQUETTES',\n",
       "   'ARMURE',\n",
       "   'ARC'],\n",
       "  'chosen_bacteria': ['Berger_2',\n",
       "   'Menuisier_2',\n",
       "   'Forgeron',\n",
       "   'Biscotte',\n",
       "   'Boucher',\n",
       "   'Taneur_2']},\n",
       " 'exchanged': [{'what': ['POINTE_DE_FER'],\n",
       "   'from_to': ('Forgeron', 'Biscotte')},\n",
       "  {'what': ['TIGE_DE_BOIS'], 'from_to': ('Menuisier_2', 'Biscotte')}]}"
      ]
     },
     "execution_count": 1,
     "metadata": {},
     "output_type": "execute_result"
    }
   ],
   "source": [
    "import miscoto\n",
    "\n",
    "miscoto.run_mincom(\n",
    "    host_file='toy_example/Biscotte.xml',\n",
    "    bacteria_dir='toy_example/',\n",
    "    seeds_file='toy_example/Environnement.xml',\n",
    "    targets_file='toy_example/Equipement.xml',\n",
    "    option='minexch',\n",
    "    output_json=\"toy_result.json\"\n",
    "    )"
   ]
  }
 ],
 "metadata": {
  "kernelspec": {
   "display_name": "Python 3 (ipykernel)",
   "language": "python",
   "name": "python3"
  },
  "language_info": {
   "codemirror_mode": {
    "name": "ipython",
    "version": 3
   },
   "file_extension": ".py",
   "mimetype": "text/x-python",
   "name": "python",
   "nbconvert_exporter": "python",
   "pygments_lexer": "ipython3",
   "version": "3.10.7"
  },
  "vscode": {
   "interpreter": {
    "hash": "92639febd7a4edc238c21077ad24fc775e7ff9fe2f6491d319ed3b857ceccde2"
   }
  }
 },
 "nbformat": 4,
 "nbformat_minor": 2
}
