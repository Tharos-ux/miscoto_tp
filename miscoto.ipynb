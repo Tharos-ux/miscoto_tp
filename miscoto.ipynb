{
 "cells": [
  {
   "cell_type": "code",
   "execution_count": null,
   "metadata": {},
   "outputs": [],
   "source": [
    "import miscoto\n",
    "\n",
    "miscoto.run_mincom(\n",
    "    host_file='toy/orgA.xml',\n",
    "    bacteria_dir='toy/symbionts/',\n",
    "    seeds_file='toy/seeds.xml',\n",
    "    targets_file='toy/targets_A.xml',\n",
    "    option='minexch',\n",
    "    output_json=\"toy_result.json\"\n",
    "    )"
   ]
  },
  {
   "cell_type": "code",
   "execution_count": null,
   "metadata": {},
   "outputs": [],
   "source": [
    "import miscoto\n",
    "\n",
    "miscoto.run_mincom(\n",
    "    host_file='toy_example/Biscotte.xml',\n",
    "    bacteria_dir='toy_example/',\n",
    "    seeds_file='toy_example/Environnement.xml',\n",
    "    targets_file='toy_example/Equipement.xml',\n",
    "    option='minexch',\n",
    "    output_json=\"toy_result.json\"\n",
    "    )"
   ]
  },
  {
   "cell_type": "markdown",
   "metadata": {},
   "source": [
    "SCOPES \\\n",
    "Microbiome only producible targets => 7 \\\n",
    "Microbiome (host and symbionts) metabolites that become producible through cooperation (excluding metabolites that were producible by the host alone) => 13\\\n",
    "\n",
    "from miscoto import run_scopes\\"
   ]
  },
  {
   "cell_type": "code",
   "execution_count": null,
   "metadata": {},
   "outputs": [],
   "source": [
    "miscoto scopes -b 'toy_example/' -s 'toy_example/Environnement.xml' -t'toy_example/Equipement.xml'"
   ]
  },
  {
   "cell_type": "markdown",
   "metadata": {},
   "source": [
    "MINCOM SOUP \n",
    "\n",
    "Minimal set of bacteria of size 6\\\n",
    "Boucher\\\n",
    "Taneur_2\\\n",
    "Berger_2\\\n",
    "Forgeron\\\n",
    "Biscotte\\\n",
    "Menuisier_2"
   ]
  },
  {
   "cell_type": "code",
   "execution_count": null,
   "metadata": {},
   "outputs": [],
   "source": [
    "​miscoto mincom -b 'toy_example/' -s 'toy_example/Environnement.xml' -t'toy_example/Equipement.xml' -o soup"
   ]
  },
  {
   "cell_type": "markdown",
   "metadata": {},
   "source": [
    "MINCOM MINEXCH => Idem que soup, MODIF A FAIRE\\\n",
    "\n",
    "Minimal set of bacteria of size 6\\\n",
    "Forgeron\\\n",
    "Biscotte\\\n",
    "Taneur_2\\\n",
    "Berger_2\\\n",
    "Menuisier_2\\\n",
    "Boucher\\\n",
    "Minimal set of exchanges of size => 2\\\n",
    "        exchange(s) from Forgeron to Biscotte = POINTE_DE_FER\\\n",
    "        exchange(s) from Menuisier_2 to Biscotte = TIGE_DE_BOIS"
   ]
  },
  {
   "cell_type": "code",
   "execution_count": null,
   "metadata": {},
   "outputs": [],
   "source": [
    "​miscoto mincom -b 'toy_example/' -s 'toy_example/Environnement.xml' -t'toy_example/Equipement.xml' -o minexch"
   ]
  },
  {
   "cell_type": "markdown",
   "metadata": {},
   "source": [
    "MINCOM ENUMERATION\n",
    "\n",
    "*** ENUMERATION OF MINIMAL SOLUTION ***\n",
    "\n",
    "Solution 1\n",
    "\n",
    "6 bacterium(ia) in solution 1\\\n",
    "Berger_2\\\n",
    "Taneur_1\\\n",
    "Menuisier_1\\\n",
    "Boucher\\\n",
    "Forgeron\\\n",
    "Biscotte\n",
    "\n",
    "Solution 2\n",
    "\n",
    "6 bacterium(ia) in solution 2\\\n",
    "Menuisier_2\\\n",
    "Berger_2\\\n",
    "Biscotte\\\n",
    "Boucher\\\n",
    "Forgeron\\\n",
    "Taneur_2"
   ]
  },
  {
   "cell_type": "code",
   "execution_count": null,
   "metadata": {},
   "outputs": [],
   "source": [
    "​miscoto mincom -b 'toy_example/' -s 'toy_example/Environnement.xml' -t'toy_example/Equipement.xml' -o soup --enumeration"
   ]
  },
  {
   "cell_type": "markdown",
   "metadata": {},
   "source": [
    "MINCOM UNION => union des solution 1 et 2\n",
    "\n",
    "*** UNION OF MINIMAL SOLUTION ***\n",
    "\n",
    "Union of minimal sets of bacteria, with optimum = 6 comprises 8 bacteria\\\n",
    "Boucher\\\n",
    "Forgeron\\\n",
    "Taneur_1\\\n",
    "Berger_2\\\n",
    "Menuisier_2\\\n",
    "Taneur_2\\\n",
    "Biscotte\\\n",
    "Menuisier_1"
   ]
  },
  {
   "cell_type": "code",
   "execution_count": null,
   "metadata": {},
   "outputs": [],
   "source": [
    "​miscoto mincom -b 'toy_example/' -s 'toy_example/Environnement.xml' -t'toy_example/Equipement.xml' -o soup --union"
   ]
  },
  {
   "cell_type": "markdown",
   "metadata": {},
   "source": [
    "FOCUS, à quoi sert le villageois ?\n",
    "\n",
    "############ Villageois\n",
    "\n",
    "* 2 metabolites producible by Villageois when alone:\n",
    "\n",
    "CUIR\\\n",
    "FLECHES"
   ]
  },
  {
   "cell_type": "code",
   "execution_count": null,
   "metadata": {},
   "outputs": [],
   "source": [
    "# ​miscoto focus -b 'toy_example_2/' -s 'toy_example_2/Environnement.xml' -f 'Villageois'\n",
    "\n",
    "from miscoto import run_focus\n",
    "run_focus(bacteria_dir='toy_example_2/', \\\n",
    "            seeds_file='toy_example_2/Environnement.xml', focus_bact='Villageois', \\\n",
    "            output_json='bouh', all_networks=False)"
   ]
  },
  {
   "cell_type": "markdown",
   "metadata": {},
   "source": [
    "MINCOM SOUP avec le Villageois => reduction de la communauté minimale car le villageois est multitache et pique le boulot des autres ah, Biscotte est contente, elle n'a plus rien à faire\n",
    "\n",
    "Minimal set of bacteria of size 5\n",
    "\n",
    "Villageois\\\n",
    "Forgeron\\\n",
    "Menuisier_1\\\n",
    "Boucher\\\n",
    "Berger_2"
   ]
  },
  {
   "cell_type": "code",
   "execution_count": null,
   "metadata": {},
   "outputs": [],
   "source": [
    "​miscoto mincom -b 'toy_example_2/' -s 'toy_example_2/Environnement.xml' -t'toy_example_2/Equipement.xml' -o soup"
   ]
  },
  {
   "cell_type": "markdown",
   "metadata": {},
   "source": [
    "INSTANCE\n",
    "from miscoto import run_instance"
   ]
  },
  {
   "cell_type": "code",
   "execution_count": null,
   "metadata": {},
   "outputs": [],
   "source": [
    "from miscoto import run_focus, run_scopes, run_instance, run_mincom"
   ]
  },
  {
   "cell_type": "markdown",
   "metadata": {},
   "source": [
    "## Les rocambolesques aventures de Biscotte, la Chaventurière\n",
    "\n",
    "*Dans le village de Sô, champêtre bourgeade perdue parmi les monts, la jeune Biscotte se prépare pour partir à l'aventure. Depuis des semaines, elle entend à la chaverne où elle va se détendre tous les soirs après de dures journées de labeur que dangers et trésors attendent quiconque sera suffisament brave ; probablement enhardie par la boisson, elle s'est décidée à relever tous les défis que ses griffes encontreraient. Prévoyante quant à son périple, elle a rassemblé de nombreuses vicutailles et ressources nécessaires à sa survie, mais il lui manque un bien crucial : une arme pour se battre contre les nombreux dangers sur son chemin. Habile bretteuse, elle escompte bien obtenir une lame enchantée pour l'aider à affronter l'adversité. Bien qu'elle sache enchanter son épée, elle ignore comment la forger. Fort embarassée, elle va devoir requérir aux services d'autres chats de la ville pour obtenir sa rapière, et elle dispose de divers moyens. Plusieurs artisans sont installés en ville : Chatastrophe le forgeron stagiaire, Chachôff le forgeron en CDD et Chalumo le forgeron expert. Par ailleurs, elle sait qu'elle pourrait aussi se procurer chez Chaltimbanque le marchand, qui a déplié son étal ce matin même. De nature timide, Biscotte souhaite avoir affaire au moins d'intermédiaires possible.*"
   ]
  },
  {
   "cell_type": "markdown",
   "metadata": {},
   "source": [
    "Vous disposez du dossier `bac_a_chable` pour modéliser la situation. Il contient un certain nombre de fichiers, organisés comme suit :\n",
    "```\n",
    "bac_a_chable/\n",
    "├─ Villageois/\n",
    "│  ├─ CHATASTROPHE.xml\n",
    "│  ├─ CHACHOFF.xml\n",
    "│  ├─ CHALUMO.xml\n",
    "│  ├─ CHALTIMBANQUE.xml\n",
    "├─ BISCOTTE.xml\n",
    "├─ EQUIPEMENTS.xml\n",
    "├─ RESSOURCES.xml\n",
    "```\n",
    "Les **seeds** de votre système sont le fichier `RESSOURCES.xml`. Il contient ce qui est présent dans le milieu.\n",
    "\n",
    "Les **targets** de votre système se trouvent dans le fichier `EQUIPEMENTS.xml`. Il contient ce qui doit être produit.\n",
    "\n",
    "Ouvrez le fichier `CHALUMO.xml` avec un éditeur de texte."
   ]
  },
  {
   "cell_type": "markdown",
   "metadata": {},
   "source": [
    "##### Question 1.1 : Dans combien de réaction(s) Chalumo est-il impliqué ? Listez leur(s) nom(s)."
   ]
  },
  {
   "cell_type": "markdown",
   "metadata": {},
   "source": []
  },
  {
   "cell_type": "markdown",
   "metadata": {},
   "source": [
    "##### Question 1.2 : Choisissez une des réactions de la question précédente. Listez-en les réactifs et les produits."
   ]
  },
  {
   "cell_type": "markdown",
   "metadata": {},
   "source": []
  },
  {
   "cell_type": "markdown",
   "metadata": {},
   "source": [
    "##### Question 1.3 : Il est possible de vérifier l'impact d'un unique membre au sein d'un système avec la commande `run_focus` de miscoto. Exécutez le code ci-dessous. Retrouvez-vous bien ce que votre lecture du fichier XML vous avait permis de déterminer ?"
   ]
  },
  {
   "cell_type": "code",
   "execution_count": null,
   "metadata": {},
   "outputs": [],
   "source": [
    "run_focus(\n",
    "    bacteria_dir='bac_a_chable/Villageois/',\n",
    "    seeds_file='bac_a_chable/RESSOURCES.xml',\n",
    "    focus_bact='CHALUMO',\n",
    "    output_json='CHALUMO.json',\n",
    ")"
   ]
  },
  {
   "cell_type": "markdown",
   "metadata": {},
   "source": [
    "La commande `instance` permet de combiner les fichiers xml des différents villageois, ressources et équipements afin d'obtenir un seul fichier combinant toutes les informations. Ce fichier est aussi reformatté afin d'être plus lisible qu'un fichier xml. Il est ainsi plus simple à éditer lorsqu'on souhaite réaliser des modifications sur le système. Vous pouvez le créer en utilisant la commande suivante qui va créer un fichier \"Village.lp\"."
   ]
  },
  {
   "cell_type": "code",
   "execution_count": null,
   "metadata": {},
   "outputs": [],
   "source": [
    "run_instance(\n",
    "    host_file='bac_a_chable/BISCOTTE.xml',\n",
    "    bacteria_dir='bac_a_chable/Villageois',\n",
    "    seeds_file='bac_a_chable/RESSOURCES.xml',\n",
    "    targets_file='bac_a_chable/EQUIPEMENTS.xml',\n",
    "    output='bac_a_chable/Village.lp'\n",
    "    )\n",
    "#miscoto instance -b 'bac_a_chable/Villageois' -m 'bac_a_chable/BISCOTTE.xml' -s 'bac_a_chable/RESSOURCES.xml' -t 'bac_a_chable/EQUIPEMENTS.xml' --out 'bac_a_chable/Village.lp'"
   ]
  },
  {
   "cell_type": "markdown",
   "metadata": {},
   "source": [
    "Ce fichier contient les informations associées:\n",
    "- au microbiome (les villageois)\n",
    "- à l'hôte (Biscotte)\n",
    "- aux seeds (les ressources)\n",
    "- aux targets (l'épée magik qu'on souhaite produire)"
   ]
  },
  {
   "cell_type": "markdown",
   "metadata": {},
   "source": [
    "##### Question 1.4 : La commande 'scope' permet de se faire une première idée sur les capacités du système. Aidez vous en pour répondre aux questions ci dessous:\n",
    "\n",
    "- Quel équipement (targets) peut produire BISCOTTE (l'hôte) toute seule ?\n",
    "- Quelle est la liste des ressources, transformées ou non, auxquelles Biscotte a accès ? \n",
    "- Est ce qu'il est possible de produire une Epée en faisant appel aux différents villageois ?"
   ]
  },
  {
   "cell_type": "code",
   "execution_count": null,
   "metadata": {},
   "outputs": [],
   "source": [
    "run_scopes(\n",
    "        lp_instance_file=\"bac_a_chable/Village.lp\"\n",
    "        )"
   ]
  },
  {
   "cell_type": "markdown",
   "metadata": {},
   "source": [
    "##### Question 1.5 : La commande `run_mincom` de miscoto permet de récupérer les communautés minimales. Listez l'ensemble des choix s'offrant à Biscotte pour récupérer une épée."
   ]
  },
  {
   "cell_type": "code",
   "execution_count": null,
   "metadata": {},
   "outputs": [],
   "source": [
    "run_mincom(\n",
    "    option='soup',\n",
    "    lp_instance_file=\"bac_a_chable/Village.lp\",\n",
    "    output_json='MINCOM_ALL.json',   \n",
    "    enumeration=True\n",
    ")"
   ]
  },
  {
   "cell_type": "markdown",
   "metadata": {},
   "source": [
    "##### Question 1.6 : Avec miscoto, il est possible de trouver la solution présentant le moins d'échanges grâce à l'option `minexch`. Un peu pressée par le temps, Biscotte cherche à avoir le minimum d'intermédiaires. Aidez-la à choisir la solution respectant cette contrainte."
   ]
  },
  {
   "cell_type": "code",
   "execution_count": null,
   "metadata": {},
   "outputs": [],
   "source": [
    "run_mincom(\n",
    "    option='minexch',\n",
    "    lp_instance_file=\"bac_a_chable/Village.lp\",\n",
    "    output_json='MINCOM_OPTSOL.json',   \n",
    ")"
   ]
  }
 ],
 "metadata": {
  "kernelspec": {
   "display_name": "Python 3.10.7 64-bit",
   "language": "python",
   "name": "python3"
  },
  "language_info": {
   "codemirror_mode": {
    "name": "ipython",
    "version": 3
   },
   "file_extension": ".py",
   "mimetype": "text/x-python",
   "name": "python",
   "nbconvert_exporter": "python",
   "pygments_lexer": "ipython3",
   "version": "3.10.7"
  },
  "vscode": {
   "interpreter": {
    "hash": "92639febd7a4edc238c21077ad24fc775e7ff9fe2f6491d319ed3b857ceccde2"
   }
  }
 },
 "nbformat": 4,
 "nbformat_minor": 2
}
