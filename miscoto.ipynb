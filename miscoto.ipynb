{
 "cells": [
  {
   "cell_type": "code",
   "execution_count": null,
   "metadata": {},
   "outputs": [],
   "source": [
    "import miscoto\n",
    "\n",
    "miscoto.run_mincom(\n",
    "    host_file='toy/orgA.xml',\n",
    "    bacteria_dir='toy/symbionts/',\n",
    "    seeds_file='toy/seeds.xml',\n",
    "    targets_file='toy/targets_A.xml',\n",
    "    option='minexch',\n",
    "    output_json=\"toy_result.json\"\n",
    "    )"
   ]
  },
  {
   "cell_type": "code",
   "execution_count": null,
   "metadata": {},
   "outputs": [],
   "source": [
    "import miscoto\n",
    "\n",
    "miscoto.run_mincom(\n",
    "    host_file='toy_example/Biscotte.xml',\n",
    "    bacteria_dir='toy_example/',\n",
    "    seeds_file='toy_example/Environnement.xml',\n",
    "    targets_file='toy_example/Equipement.xml',\n",
    "    option='minexch',\n",
    "    output_json=\"toy_result.json\"\n",
    "    )"
   ]
  },
  {
   "cell_type": "markdown",
   "metadata": {},
   "source": [
    "SCOPES \\\n",
    "Microbiome only producible targets => 7 \\\n",
    "Microbiome (host and symbionts) metabolites that become producible through cooperation (excluding metabolites that were producible by the host alone) => 13\\\n",
    "\n",
    "from miscoto import run_scopes\\"
   ]
  },
  {
   "cell_type": "code",
   "execution_count": null,
   "metadata": {},
   "outputs": [],
   "source": [
    "miscoto scopes -b 'toy_example/' -s 'toy_example/Environnement.xml' -t'toy_example/Equipement.xml'"
   ]
  },
  {
   "cell_type": "markdown",
   "metadata": {},
   "source": [
    "MINCOM SOUP \n",
    "\n",
    "Minimal set of bacteria of size 6\\\n",
    "Boucher\\\n",
    "Taneur_2\\\n",
    "Berger_2\\\n",
    "Forgeron\\\n",
    "Biscotte\\\n",
    "Menuisier_2"
   ]
  },
  {
   "cell_type": "code",
   "execution_count": null,
   "metadata": {},
   "outputs": [],
   "source": [
    "​miscoto mincom -b 'toy_example/' -s 'toy_example/Environnement.xml' -t'toy_example/Equipement.xml' -o soup"
   ]
  },
  {
   "cell_type": "markdown",
   "metadata": {},
   "source": [
    "MINCOM MINEXCH => Idem que soup, MODIF A FAIRE\\\n",
    "\n",
    "Minimal set of bacteria of size 6\\\n",
    "Forgeron\\\n",
    "Biscotte\\\n",
    "Taneur_2\\\n",
    "Berger_2\\\n",
    "Menuisier_2\\\n",
    "Boucher\\\n",
    "Minimal set of exchanges of size => 2\\\n",
    "        exchange(s) from Forgeron to Biscotte = POINTE_DE_FER\\\n",
    "        exchange(s) from Menuisier_2 to Biscotte = TIGE_DE_BOIS"
   ]
  },
  {
   "cell_type": "code",
   "execution_count": null,
   "metadata": {},
   "outputs": [],
   "source": [
    "​miscoto mincom -b 'toy_example/' -s 'toy_example/Environnement.xml' -t'toy_example/Equipement.xml' -o minexch"
   ]
  },
  {
   "cell_type": "markdown",
   "metadata": {},
   "source": [
    "MINCOM ENUMERATION\n",
    "\n",
    "*** ENUMERATION OF MINIMAL SOLUTION ***\n",
    "\n",
    "Solution 1\n",
    "\n",
    "6 bacterium(ia) in solution 1\\\n",
    "Berger_2\\\n",
    "Taneur_1\\\n",
    "Menuisier_1\\\n",
    "Boucher\\\n",
    "Forgeron\\\n",
    "Biscotte\n",
    "\n",
    "Solution 2\n",
    "\n",
    "6 bacterium(ia) in solution 2\\\n",
    "Menuisier_2\\\n",
    "Berger_2\\\n",
    "Biscotte\\\n",
    "Boucher\\\n",
    "Forgeron\\\n",
    "Taneur_2"
   ]
  },
  {
   "cell_type": "code",
   "execution_count": null,
   "metadata": {},
   "outputs": [],
   "source": [
    "​miscoto mincom -b 'toy_example/' -s 'toy_example/Environnement.xml' -t'toy_example/Equipement.xml' -o soup --enumeration"
   ]
  },
  {
   "cell_type": "markdown",
   "metadata": {},
   "source": [
    "MINCOM UNION => union des solution 1 et 2\n",
    "\n",
    "*** UNION OF MINIMAL SOLUTION ***\n",
    "\n",
    "Union of minimal sets of bacteria, with optimum = 6 comprises 8 bacteria\\\n",
    "Boucher\\\n",
    "Forgeron\\\n",
    "Taneur_1\\\n",
    "Berger_2\\\n",
    "Menuisier_2\\\n",
    "Taneur_2\\\n",
    "Biscotte\\\n",
    "Menuisier_1"
   ]
  },
  {
   "cell_type": "code",
   "execution_count": null,
   "metadata": {},
   "outputs": [],
   "source": [
    "​miscoto mincom -b 'toy_example/' -s 'toy_example/Environnement.xml' -t'toy_example/Equipement.xml' -o soup --union"
   ]
  },
  {
   "cell_type": "markdown",
   "metadata": {},
   "source": [
    "FOCUS, à quoi sert le villageois ?\n",
    "\n",
    "############ Villageois\n",
    "\n",
    "* 2 metabolites producible by Villageois when alone:\n",
    "\n",
    "CUIR\\\n",
    "FLECHES"
   ]
  },
  {
   "cell_type": "code",
   "execution_count": null,
   "metadata": {},
   "outputs": [],
   "source": [
    "# ​miscoto focus -b 'toy_example_2/' -s 'toy_example_2/Environnement.xml' -f 'Villageois'\n",
    "\n",
    "from miscoto import run_focus\n",
    "run_focus(bacteria_dir='toy_example_2/', \\\n",
    "            seeds_file='toy_example_2/Environnement.xml', focus_bact='Villageois', \\\n",
    "            output_json='bouh', all_networks=False)"
   ]
  },
  {
   "cell_type": "markdown",
   "metadata": {},
   "source": [
    "MINCOM SOUP avec le Villageois => reduction de la communauté minimale car le villageois est multitache et pique le boulot des autres ah, Biscotte est contente, elle n'a plus rien à faire\n",
    "\n",
    "Minimal set of bacteria of size 5\n",
    "\n",
    "Villageois\\\n",
    "Forgeron\\\n",
    "Menuisier_1\\\n",
    "Boucher\\\n",
    "Berger_2"
   ]
  },
  {
   "cell_type": "code",
   "execution_count": null,
   "metadata": {},
   "outputs": [],
   "source": [
    "​miscoto mincom -b 'toy_example_2/' -s 'toy_example_2/Environnement.xml' -t'toy_example_2/Equipement.xml' -o soup"
   ]
  },
  {
   "cell_type": "markdown",
   "metadata": {},
   "source": [
    "INSTANCE\n",
    "from miscoto import run_instance"
   ]
  },
  {
   "cell_type": "code",
   "execution_count": 1,
   "metadata": {},
   "outputs": [
    {
     "ename": "NameError",
     "evalue": "name 'utils' is not defined",
     "output_type": "error",
     "traceback": [
      "\u001b[1;31m---------------------------------------------------------------------------\u001b[0m",
      "\u001b[1;31mNameError\u001b[0m                                 Traceback (most recent call last)",
      "Cell \u001b[1;32mIn [1], line 1\u001b[0m\n\u001b[1;32m----> 1\u001b[0m \u001b[39mfrom\u001b[39;00m \u001b[39mmiscoto\u001b[39;00m \u001b[39mimport\u001b[39;00m run_focus, run_scopes, run_instance, run_mincom\n",
      "File \u001b[1;32m~\\AppData\\Local\\Packages\\PythonSoftwareFoundation.Python.3.10_qbz5n2kfra8p0\\LocalCache\\local-packages\\Python310\\site-packages\\miscoto\\__init__.py:16\u001b[0m\n\u001b[0;32m      1\u001b[0m \u001b[39m# Copyright (C) 2018-2021 Clémence Frioux & Arnaud Belcour - Inria Dyliss - Pleiade\u001b[39;00m\n\u001b[0;32m      2\u001b[0m \u001b[39m# This program is free software: you can redistribute it and/or modify\u001b[39;00m\n\u001b[0;32m      3\u001b[0m \u001b[39m# it under the terms of the GNU Lesser General Public License as published by\u001b[39;00m\n\u001b[1;32m   (...)\u001b[0m\n\u001b[0;32m     12\u001b[0m \u001b[39m# You should have received a copy of the GNU Lesser General Public License\u001b[39;00m\n\u001b[0;32m     13\u001b[0m \u001b[39m# along with this program. If not, see <http://www.gnu.org/licenses/>\u001b[39;00m\n\u001b[0;32m     15\u001b[0m \u001b[39mfrom\u001b[39;00m \u001b[39mmiscoto\u001b[39;00m\u001b[39m.\u001b[39;00m\u001b[39mmiscoto_instance\u001b[39;00m \u001b[39mimport\u001b[39;00m run_instance\n\u001b[1;32m---> 16\u001b[0m \u001b[39mfrom\u001b[39;00m \u001b[39mmiscoto\u001b[39;00m\u001b[39m.\u001b[39;00m\u001b[39mmiscoto_mincom\u001b[39;00m \u001b[39mimport\u001b[39;00m run_mincom\n\u001b[0;32m     17\u001b[0m \u001b[39mfrom\u001b[39;00m \u001b[39mmiscoto\u001b[39;00m\u001b[39m.\u001b[39;00m\u001b[39mmiscoto_scopes\u001b[39;00m \u001b[39mimport\u001b[39;00m run_scopes\n\u001b[0;32m     18\u001b[0m \u001b[39mfrom\u001b[39;00m \u001b[39mmiscoto\u001b[39;00m\u001b[39m.\u001b[39;00m\u001b[39mmiscoto_focus\u001b[39;00m \u001b[39mimport\u001b[39;00m run_focus\n",
      "File \u001b[1;32m~\\AppData\\Local\\Packages\\PythonSoftwareFoundation.Python.3.10_qbz5n2kfra8p0\\LocalCache\\local-packages\\Python310\\site-packages\\miscoto\\miscoto_mincom.py:23\u001b[0m\n\u001b[0;32m     21\u001b[0m \u001b[39mimport\u001b[39;00m \u001b[39mtime\u001b[39;00m\n\u001b[0;32m     22\u001b[0m \u001b[39mimport\u001b[39;00m \u001b[39mlogging\u001b[39;00m\n\u001b[1;32m---> 23\u001b[0m \u001b[39mfrom\u001b[39;00m \u001b[39mmiscoto\u001b[39;00m \u001b[39mimport\u001b[39;00m query, sbml, commons, utils\n\u001b[0;32m     24\u001b[0m \u001b[39mfrom\u001b[39;00m \u001b[39mos\u001b[39;00m \u001b[39mimport\u001b[39;00m listdir\n\u001b[0;32m     25\u001b[0m \u001b[39mfrom\u001b[39;00m \u001b[39mos\u001b[39;00m\u001b[39m.\u001b[39;00m\u001b[39mpath\u001b[39;00m \u001b[39mimport\u001b[39;00m isfile, join\n",
      "File \u001b[1;32m~\\AppData\\Local\\Packages\\PythonSoftwareFoundation.Python.3.10_qbz5n2kfra8p0\\LocalCache\\local-packages\\Python310\\site-packages\\miscoto\\query.py:17\u001b[0m\n\u001b[0;32m     15\u001b[0m \u001b[39mimport\u001b[39;00m \u001b[39mos\u001b[39;00m\n\u001b[0;32m     16\u001b[0m \u001b[39mimport\u001b[39;00m \u001b[39mtempfile\u001b[39;00m\n\u001b[1;32m---> 17\u001b[0m \u001b[39mimport\u001b[39;00m \u001b[39mclyngor\u001b[39;00m\n\u001b[0;32m     18\u001b[0m \u001b[39mfrom\u001b[39;00m \u001b[39mmiscoto\u001b[39;00m \u001b[39mimport\u001b[39;00m utils\n\u001b[0;32m     20\u001b[0m \u001b[39mdef\u001b[39;00m \u001b[39mget_scopes\u001b[39m(instance_f, encoding):\n",
      "File \u001b[1;32m~\\AppData\\Local\\Packages\\PythonSoftwareFoundation.Python.3.10_qbz5n2kfra8p0\\LocalCache\\local-packages\\Python310\\site-packages\\clyngor\\__init__.py:70\u001b[0m\n\u001b[0;32m     66\u001b[0m     \u001b[39massert\u001b[39;00m get_clingo_binary() \u001b[39m==\u001b[39m CLINGO_BIN_PATH\n\u001b[0;32m     69\u001b[0m \u001b[39m# last, clyngor depending modules\u001b[39;00m\n\u001b[1;32m---> 70\u001b[0m \u001b[39mfrom\u001b[39;00m \u001b[39mclyngor\u001b[39;00m\u001b[39m.\u001b[39;00m\u001b[39mupapi\u001b[39;00m \u001b[39mimport\u001b[39;00m converted_types, converted_types_or_symbols\n",
      "File \u001b[1;32m~\\AppData\\Local\\Packages\\PythonSoftwareFoundation.Python.3.10_qbz5n2kfra8p0\\LocalCache\\local-packages\\Python310\\site-packages\\clyngor\\upapi.py:93\u001b[0m\n\u001b[0;32m     90\u001b[0m         \u001b[39mreturn\u001b[39;00m decorated\n\u001b[0;32m     91\u001b[0m     \u001b[39mreturn\u001b[39;00m decorator\n\u001b[1;32m---> 93\u001b[0m converted_types \u001b[39m=\u001b[39m _converted_types(\u001b[39mTrue\u001b[39;49;00m)\n\u001b[0;32m     94\u001b[0m converted_types_or_symbols \u001b[39m=\u001b[39m _converted_types(\u001b[39mFalse\u001b[39;00m)\n",
      "File \u001b[1;32m~\\AppData\\Local\\Packages\\PythonSoftwareFoundation.Python.3.10_qbz5n2kfra8p0\\LocalCache\\local-packages\\Python310\\site-packages\\clyngor\\upapi.py:23\u001b[0m, in \u001b[0;36m_converted_types\u001b[1;34m(ignore_bad_type)\u001b[0m\n\u001b[0;32m     12\u001b[0m \u001b[39mdef\u001b[39;00m \u001b[39m_converted_types\u001b[39m(ignore_bad_type:\u001b[39mbool\u001b[39m\u001b[39m=\u001b[39m\u001b[39mTrue\u001b[39;00m):\n\u001b[0;32m     13\u001b[0m     \u001b[39m\"\"\"Decorator for functions accessed by ASP, using type annotations to\u001b[39;00m\n\u001b[0;32m     14\u001b[0m \u001b[39m    convert input types in their expected type.\u001b[39;00m\n\u001b[0;32m     15\u001b[0m \n\u001b[1;32m   (...)\u001b[0m\n\u001b[0;32m     21\u001b[0m \n\u001b[0;32m     22\u001b[0m \u001b[39m    \"\"\"\u001b[39;00m\n\u001b[1;32m---> 23\u001b[0m     \u001b[39mif\u001b[39;00m \u001b[39mnot\u001b[39;00m clyngor\u001b[39m.\u001b[39;49mhave_python_support() \u001b[39mor\u001b[39;00m \u001b[39mnot\u001b[39;00m clyngor\u001b[39m.\u001b[39mclingo_module_available:\n\u001b[0;32m     24\u001b[0m         \u001b[39mreturn\u001b[39;00m clyngor\u001b[39m.\u001b[39mutils\u001b[39m.\u001b[39mnull_decorator\n\u001b[0;32m     25\u001b[0m     \u001b[39mfrom\u001b[39;00m \u001b[39mclingo\u001b[39;00m \u001b[39mimport\u001b[39;00m symbol\n",
      "File \u001b[1;32m~\\AppData\\Local\\Packages\\PythonSoftwareFoundation.Python.3.10_qbz5n2kfra8p0\\LocalCache\\local-packages\\Python310\\site-packages\\clyngor\\__init__.py:53\u001b[0m, in \u001b[0;36mhave_python_support\u001b[1;34m(py3)\u001b[0m\n\u001b[0;32m     50\u001b[0m \u001b[39mdef\u001b[39;00m \u001b[39mhave_python_support\u001b[39m(py3:\u001b[39mbool\u001b[39m\u001b[39m=\u001b[39m\u001b[39mTrue\u001b[39;00m) \u001b[39m-\u001b[39m\u001b[39m>\u001b[39m \u001b[39mbool\u001b[39m \u001b[39mor\u001b[39;00m \u001b[39mNone\u001b[39;00m:\n\u001b[0;32m     51\u001b[0m     \u001b[39m\"\"\"True if clingo supports python 3 (or 2 if py3 is falsy).\u001b[39;00m\n\u001b[0;32m     52\u001b[0m \u001b[39m    None if no python support at all.\"\"\"\u001b[39;00m\n\u001b[1;32m---> 53\u001b[0m     \u001b[39mreturn\u001b[39;00m utils\u001b[39m.\u001b[39mtry_python_availability_in_clingo(py3)\n",
      "\u001b[1;31mNameError\u001b[0m: name 'utils' is not defined"
     ]
    }
   ],
   "source": [
    "from miscoto import run_focus, run_scopes, run_instance, run_mincom"
   ]
  },
  {
   "cell_type": "markdown",
   "metadata": {},
   "source": [
    "## Les rocambolesques aventures de Biscotte, la Chaventurière\n",
    "\n",
    "*Dans le village de Sô, champêtre bourgeade perdue parmi les monts, la jeune Biscotte se prépare pour partir à l'aventure. Depuis des semaines, elle entend à la chaverne où elle va se détendre tous les soirs après de dures journées de labeur que dangers et trésors attendent quiconque sera suffisament brave ; probablement enhardie par la boisson, elle s'est décidée à relever tous les défis que ses griffes encontreraient. Prévoyante quant à son périple, elle a rassemblé de nombreuses vicutailles et ressources nécessaires à sa survie, mais il lui manque un bien crucial : une arme pour se battre contre les nombreux dangers sur son chemin. Habile bretteuse, elle escompte bien obtenir une lame enchantée pour l'aider à affronter l'adversité. Bien qu'elle sache enchanter son épée, elle ignore comment la forger. Fort embarassée, elle va devoir requérir aux services d'autres chats de la ville pour obtenir sa rapière, et elle dispose de divers moyens. Plusieurs artisans sont installés en ville : Chatastrophe le forgeron stagiaire, Chachôff le forgeron en CDD et Chalumo le forgeron expert. Par ailleurs, elle sait qu'elle pourrait aussi se procurer chez Chaltimbanque le marchand, qui a déplié son étal ce matin même. De nature timide, Biscotte souhaite avoir affaire au moins d'intermédiaires possible.*"
   ]
  },
  {
   "cell_type": "markdown",
   "metadata": {},
   "source": [
    "Vous disposez du dossier `bac_a_chable` pour modéliser la situation. Il contient un certain nombre de fichiers, organisés comme suit :\n",
    "```\n",
    "bac_a_chable/\n",
    "├─ Villageois/\n",
    "│  ├─ CHATASTROPHE.xml\n",
    "│  ├─ CHACHOFF.xml\n",
    "│  ├─ CHALUMO.xml\n",
    "│  ├─ CHALTIMBANQUE.xml\n",
    "├─ BISCOTTE.xml\n",
    "├─ EQUIPEMENTS.xml\n",
    "├─ RESSOURCES.xml\n",
    "```\n",
    "Les **seeds** de votre système sont le fichier `RESSOURCES.xml`. Il contient ce qui est présent dans le milieu.\n",
    "\n",
    "Les **targets** de votre système se trouvent dans le fichier `EQUIPEMENTS.xml`. Il contient ce qui doit être produit.\n",
    "\n",
    "Ouvrez le fichier `CHALUMO.xml` avec un éditeur de texte."
   ]
  },
  {
   "cell_type": "markdown",
   "metadata": {},
   "source": [
    "##### Question 1.1 : Dans combien de réaction(s) Chalumo est-il impliqué ? Listez leur(s) nom(s)."
   ]
  },
  {
   "cell_type": "markdown",
   "metadata": {},
   "source": []
  },
  {
   "cell_type": "markdown",
   "metadata": {},
   "source": [
    "##### Question 1.2 : Choisissez une des réactions de la question précédente. Listez-en les réactifs et les produits."
   ]
  },
  {
   "cell_type": "markdown",
   "metadata": {},
   "source": []
  },
  {
   "cell_type": "markdown",
   "metadata": {},
   "source": [
    "##### Question 1.3 : Il est possible de vérifier l'impact d'un unique membre au sein d'un système avec la commande `run_focus` de miscoto. Exécutez le code ci-dessous. Retrouvez-vous bien ce que votre lecture du fichier XML vous avait permis de déterminer ?"
   ]
  },
  {
   "cell_type": "code",
   "execution_count": 2,
   "metadata": {},
   "outputs": [
    {
     "ename": "NameError",
     "evalue": "name 'run_focus' is not defined",
     "output_type": "error",
     "traceback": [
      "\u001b[1;31m---------------------------------------------------------------------------\u001b[0m",
      "\u001b[1;31mNameError\u001b[0m                                 Traceback (most recent call last)",
      "Cell \u001b[1;32mIn [2], line 1\u001b[0m\n\u001b[1;32m----> 1\u001b[0m run_focus(\n\u001b[0;32m      2\u001b[0m     bacteria_dir\u001b[39m=\u001b[39m\u001b[39m'\u001b[39m\u001b[39mbac_a_chable/Villageois/\u001b[39m\u001b[39m'\u001b[39m,\n\u001b[0;32m      3\u001b[0m     seeds_file\u001b[39m=\u001b[39m\u001b[39m'\u001b[39m\u001b[39mbac_a_chable/ENVIRONNEMENT.xml\u001b[39m\u001b[39m'\u001b[39m,\n\u001b[0;32m      4\u001b[0m     focus_bact\u001b[39m=\u001b[39m\u001b[39m'\u001b[39m\u001b[39mCHALUMO\u001b[39m\u001b[39m'\u001b[39m,\n\u001b[0;32m      5\u001b[0m     output_json\u001b[39m=\u001b[39m\u001b[39m'\u001b[39m\u001b[39mCHALUMO.json\u001b[39m\u001b[39m'\u001b[39m,\n\u001b[0;32m      6\u001b[0m     all_networks\u001b[39m=\u001b[39m\u001b[39mFalse\u001b[39;00m\n\u001b[0;32m      7\u001b[0m     )\n",
      "\u001b[1;31mNameError\u001b[0m: name 'run_focus' is not defined"
     ]
    }
   ],
   "source": [
    "run_focus(\n",
    "    bacteria_dir='bac_a_chable/Villageois/',\n",
    "    seeds_file='bac_a_chable/RESSOURCES.xml',\n",
    "    focus_bact='CHALUMO',\n",
    "    output_json='CHALUMO.json',\n",
    ")"
   ]
  },
  {
   "cell_type": "markdown",
   "metadata": {},
   "source": [
    "##### Question 1.4 : La commande `run_mincom` de miscoto permet de récupérer les communautés minimales. Listez l'ensemble des choix s'offrant à Biscotte pour récupérer une épée."
   ]
  },
  {
   "cell_type": "code",
   "execution_count": null,
   "metadata": {},
   "outputs": [],
   "source": [
    "run_mincom(\n",
    "    option='soup',\n",
    "    lp_instance_file=\"bac_a_chable.lp\",\n",
    "    output_json='MINCOM_ALL.json',   \n",
    "    enumeration=True\n",
    ")"
   ]
  },
  {
   "cell_type": "markdown",
   "metadata": {},
   "source": [
    "##### Question 1.5 : Avec miscoto, il est possible de trouver la solution présentant le moins d'échanges grâce à l'option `minexch`. Soucieuse de l'origine de l'arme, Biscotte cherche à avoir le minimum d'intermédiaires. Aidez-la à choisir la solution respectant cette contrainte."
   ]
  },
  {
   "cell_type": "code",
   "execution_count": null,
   "metadata": {},
   "outputs": [],
   "source": [
    "run_mincom(\n",
    "    option='minexch',\n",
    "    lp_instance_file=\"bac_a_chable.lp\",\n",
    "    output_json='MINCOM_OPTSOL.json',   \n",
    ")"
   ]
  }
 ],
 "metadata": {
  "kernelspec": {
   "display_name": "Python 3.10.8 64-bit (microsoft store)",
   "language": "python",
   "name": "python3"
  },
  "language_info": {
   "codemirror_mode": {
    "name": "ipython",
    "version": 3
   },
   "file_extension": ".py",
   "mimetype": "text/x-python",
   "name": "python",
   "nbconvert_exporter": "python",
   "pygments_lexer": "ipython3",
   "version": "3.10.8"
  },
  "vscode": {
   "interpreter": {
    "hash": "1a7defa66b68dbab892a952df714b69469a56330ce85434a6f185867705ac253"
   }
  }
 },
 "nbformat": 4,
 "nbformat_minor": 2
}
