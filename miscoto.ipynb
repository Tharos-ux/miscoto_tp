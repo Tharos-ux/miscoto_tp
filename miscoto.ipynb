{
 "cells": [
  {
   "cell_type": "markdown",
   "metadata": {},
   "source": [
    "## Introduction"
   ]
  },
  {
   "cell_type": "markdown",
   "metadata": {},
   "source": [
    "Le terme \"communauté\" fait référence a un groupe d'organismes occupant une niche écologique particulière et qui peut comprendre un nombre quelconque d'espèces. En biologie, de nombreuses études se focalisent sur l'étude des communautés bactériennes, ou microbiotes, tels qu'on en trouve dans le sol, dans nos intestins ou sur notre peau. Dans ce TP nous allons utiliser un ensemble réduit de bactéries isolées du microbiote cutané, dont nous allons explorer la synergie.\n",
    "\n",
    "Ce TP a pour but de qualifier une ou plusieurs communautés minimales de bactéries capables de réaliser une fonction biologique en particuler, en se basant sur les métabolites que chaque communauté est capable de produire. La recherche d’échanges entre organismes peut être un atout dans la reconstruction de réseaux métaboliques et dans l’annotation de génomes, afin d’élucider par exemple si un hôte est capable de réaliser une fonction spécifique par lui même ou si il repose sur un symbiote. Sélectionner des sous-communautés au sein d’un microbiote a de nombreuses applications, comme par exemple développer une communauté synthétique de bactéries pour des applications industrielles notamment. Ici, l'entreprise Freshcent fait appel à vous afin de les aider à révolutionner la vie de tous les sportifs et stressés en tout genre. Vous allez collaborer afin de déterminer un sous ensemble de bactéries capable de métaboliser les composés malodorants issus de la transpiration en composés agréablement parfumés. Pour aider l'entreprise dans la conception de ce déodorant probiotique nouvelle génération, vous allez pouvoir vous aider de l'outil Miscoto.\n",
    "\n",
    "Miscoto (MIcrobiome Screening and Community selection using TOpology) est un outil utilisant la programmation par ensemble-réponse (ASP) pour identifier des microbiotes de taille minimale capables de produire des métabolites d’intéret, indépendamment ou via une coopération. La coopération fait référence à des échanges de métabolites entre organismes afin de produire un métabolite d’intéret à partir des métabolites disponibles dans le mileu de culture. Miscoto met ainsi en commun toutes les capacités métaboliques de chaque organisme. Si plusieurs solutions sont disponibles il est aussi possible de restreindre les résultats en introduisant la notion de nombre d’échanges minimum. En effet, les échanges de métabolites entre organismes étant couteux en énergie, il existe un fort sens biologique à les réduire au maximum. Les solutions générées par l’outil peuvent ensuite être filtrées par des critères biologiques."
   ]
  },
  {
   "cell_type": "markdown",
   "metadata": {},
   "source": [
    "## Données du sujet\n",
    "\n",
    "Toutes les données, sujet et script pour l'environnement se trouvent à l'adresse [https://github.com/Tharos-ux/miscoto_tp](https://github.com/Tharos-ux/miscoto_tp)"
   ]
  },
  {
   "cell_type": "markdown",
   "metadata": {},
   "source": [
    "## Procédure d'installation"
   ]
  },
  {
   "cell_type": "markdown",
   "metadata": {},
   "source": [
    "1) Naviguez jusqu'au dossier contenant les fichiers d'environnement.\n",
    "\n",
    "2) Editez le contenu du script bash `create_env.sh` en modifiant la version python, accordément à celle présente sur votre machine.\n",
    "Vous devez avoir une version python >= à 3.6. Si ce n'est pas le cas, installez une distribution python remplissant cette condition. Si vous ne savez pas quelle version de python est installée sur votre machine, utilisez `python3 --version` ou par défaut `python --version`.\n",
    "\n",
    "3) Exécutez le script pour créer l'environnement avec la commande `bash create_env.sh`.\n",
    "\n",
    "4) Pour lancer l'environnement, utilisez la commande `source .venv_miscoto/bin/activate` dans le terminal, en étant placé dans le dossier où vous avez créé l'enironnement.\n",
    "\n",
    "5) A ce stade, vous devriez pouvoir vérifier la bonne installation de **miscoto** grâce à la commande `miscoto --version`. Vous pouvez désormais ouvrir le Jupyter Notebook qui contient le sujet du TP avec la commande `jupyter-notebook miscoto.ipynb`.\n",
    "\n",
    "Note : pour quitter l'environnement, utilisez la commande `deactivate` dans le terminal.\n",
    "\n",
    "Vous pouvez par ailleurs retrouver le code source en suivant [ce lien](https://github.com/cfrioux/miscoto)."
   ]
  },
  {
   "cell_type": "markdown",
   "metadata": {},
   "source": [
    "## Partie I - Les rocambolesques aventures de Biscotte, la Chaventurière\n",
    "\n",
    "Dans cette première partie, nous vous proposons de vous familliariser avec les commandes de l'outil.\n",
    "\n",
    "*Dans le village de Sô, perdu parmi les monts, la jeune Biscotte se prépare pour partir à l'aventure. Depuis des semaines, elle entend à la chaverne où elle va se détendre tous les soirs après de dures journées de labeur que dangers et trésors attendent quiconque sera suffisament brave. Probablement enhardie par la boisson, elle s'est décidée à relever tous les défis que ses griffes rencontreraient. Prévoyante quant à son périple, elle a rassemblé de nombreuses victuailles et ressources nécessaires à sa survie, mais il lui manque un bien crucial : une arme pour se battre contre les nombreux dangers sur son chemin. Habile bretteuse, elle escompte bien obtenir une lame enchantée pour l'aider à affronter l'adversité. Bien qu'elle sache enchanter son épée, elle ignore comment la forger. Fort embarassée, elle va devoir requérir aux services d'autres chats de la ville pour obtenir sa rapière, et elle dispose de divers moyens. Plusieurs artisans sont installés en ville : Chachôff un forgeron en CDD, Chalumo l'expert forgeron et Chatastrophe son stagiaire. Par ailleurs, elle sait qu'elle pourrait aussi se procurer chez Chaltimbanque le marchand, qui a déplié son étal ce matin même. Un peu pressée et de nature timide, Biscotte souhaite avoir affaire au moins d'intermédiaires possible.*"
   ]
  },
  {
   "cell_type": "markdown",
   "metadata": {},
   "source": [
    "Vous disposez du dossier `bac_a_chable` pour modéliser la situation. Il contient un certain nombre de fichiers, organisés comme suit :\n",
    "```\n",
    "bac_a_chable/\n",
    "├─ Villageois/\n",
    "│  ├─ CHATASTROPHE.xml\n",
    "│  ├─ CHACHOFF.xml\n",
    "│  ├─ CHALUMO.xml\n",
    "│  ├─ CHALTIMBANQUE.xml\n",
    "├─ BISCOTTE.xml\n",
    "├─ EQUIPEMENTS.xml\n",
    "├─ RESSOURCES.xml\n",
    "```\n",
    "Les **seeds** de votre système sont le fichier `RESSOURCES.xml`. Il contient ce qui est présent dans le milieu naturel.\n",
    "\n",
    "Les **targets** de votre système se trouvent dans le fichier `EQUIPEMENTS.xml`. Il contient ce qui doit être produit.\n",
    "\n",
    "Commencez par charger les packages nécessaires :"
   ]
  },
  {
   "cell_type": "code",
   "execution_count": null,
   "metadata": {},
   "outputs": [],
   "source": [
    "from miscoto import run_focus, run_scopes, run_instance, run_mincom\n",
    "from json import load"
   ]
  },
  {
   "cell_type": "markdown",
   "metadata": {},
   "source": [
    "Nous allons tout d'abord essayer de compléter notre réseau en complétant les seeds, targets et métabolites (encadrés en bleu) et réactions manquantes (ronds oranges) dans le graphe suivant :"
   ]
  },
  {
   "cell_type": "markdown",
   "metadata": {},
   "source": [
    "<img src='pics/bon_courage.png'>"
   ]
  },
  {
   "cell_type": "markdown",
   "metadata": {},
   "source": [
    "Aidez vous des questions suivantes pour le compléter au fur et à mesure."
   ]
  },
  {
   "cell_type": "markdown",
   "metadata": {},
   "source": [
    "Ouvrez le fichier `EQUIPEMENT.xml` avec un éditeur de texte."
   ]
  },
  {
   "cell_type": "markdown",
   "metadata": {},
   "source": [
    "##### Question 1.1 : Que cherche t'on à produire ? Ajoutez cette information sur le graphe."
   ]
  },
  {
   "cell_type": "markdown",
   "metadata": {},
   "source": []
  },
  {
   "cell_type": "markdown",
   "metadata": {},
   "source": [
    "Ouvrez le fichier `RESSOURCES.xml` avec un éditeur de texte."
   ]
  },
  {
   "cell_type": "markdown",
   "metadata": {},
   "source": [
    "##### Question 1.2 : Quelles sont les ressources disponibles dans le milieu ? Ajoutez cette information sur le graphe."
   ]
  },
  {
   "cell_type": "markdown",
   "metadata": {},
   "source": []
  },
  {
   "cell_type": "markdown",
   "metadata": {},
   "source": [
    "Ouvrez le fichier `CHACHOFF.xml` avec un éditeur de texte."
   ]
  },
  {
   "cell_type": "markdown",
   "metadata": {},
   "source": [
    "##### Question 1.3 : Dans combien de réaction(s) Chachoff est-il impliqué ? Listez leur(s) nom(s)."
   ]
  },
  {
   "cell_type": "markdown",
   "metadata": {},
   "source": []
  },
  {
   "cell_type": "markdown",
   "metadata": {},
   "source": [
    "##### Question 1.4 : Listez les réactifs et les produits de la ou des réactions identifiées précédemment. Ajoutez ces informations sur le graphe."
   ]
  },
  {
   "cell_type": "markdown",
   "metadata": {},
   "source": []
  },
  {
   "cell_type": "markdown",
   "metadata": {},
   "source": [
    "##### Question 1.5 : Il est possible de vérifier le rôle d'un individu au sein d'un système avec la commande `run_focus` de Miscoto. Exécutez le code ci-dessous. Retrouvez-vous bien ce que votre lecture du fichier XML vous avait permis de déterminer ?\n",
    "\n",
    "Notez que l'option output_json permet d'exporter l'ensemble des résultats dans un fichier json."
   ]
  },
  {
   "cell_type": "code",
   "execution_count": null,
   "metadata": {},
   "outputs": [],
   "source": [
    "run_focus(\n",
    "    bacteria_dir='bac_a_chable/Villageois/',\n",
    "    seeds_file='bac_a_chable/RESSOURCES.xml',\n",
    "    focus_bact=['CHACHOFF'],\n",
    "    output_json='CHACHOFF.json',\n",
    ")\n",
    "\n",
    "# Dans le terminal:\n",
    "# miscoto focus -b 'bac_a_chable/Villageois/' -s 'bac_a_chable/RESSOURCES.xml' -f 'CHALUMO' --output 'CHALUMO.json'"
   ]
  },
  {
   "cell_type": "markdown",
   "metadata": {},
   "source": []
  },
  {
   "cell_type": "markdown",
   "metadata": {},
   "source": [
    "##### Question 1.6 : Voici les graphes associés aux différents individus. Terminez de reconstituer le graphe métabolique du système dans son ensemble."
   ]
  },
  {
   "cell_type": "markdown",
   "metadata": {},
   "source": [
    "<img src='pics/recap_all.png'>"
   ]
  },
  {
   "cell_type": "markdown",
   "metadata": {},
   "source": []
  },
  {
   "cell_type": "markdown",
   "metadata": {},
   "source": [
    "La commande `instance` permet de combiner les fichiers xml des différents villageois, ressources et équipements afin d'obtenir un seul fichier combinant toutes les informations, comme on vient de le faire avec notre graphe. Ce fichier est aussi reformatté afin d'être plus lisible qu'un fichier xml. Il est ainsi plus simple à éditer lorsqu'on souhaite réaliser des modifications sur le système. Vous pouvez lancer la commande suivante qui va générer un fichier \"Village.lp\"."
   ]
  },
  {
   "cell_type": "code",
   "execution_count": null,
   "metadata": {},
   "outputs": [],
   "source": [
    "run_instance(\n",
    "    host_file='bac_a_chable/BISCOTTE.xml',\n",
    "    bacteria_dir='bac_a_chable/Villageois',\n",
    "    seeds_file='bac_a_chable/RESSOURCES.xml',\n",
    "    targets_file='bac_a_chable/EQUIPEMENTS.xml',\n",
    "    output='bac_a_chable/Village.lp'\n",
    "    )\n",
    "# Dans le terminal:\n",
    "# miscoto instance -b 'bac_a_chable/Villageois' -m 'bac_a_chable/BISCOTTE.xml' -s 'bac_a_chable/RESSOURCES.xml' -t 'bac_a_chable/EQUIPEMENTS.xml' --out 'bac_a_chable/Village.lp'"
   ]
  },
  {
   "cell_type": "markdown",
   "metadata": {},
   "source": [
    "##### Ce fichier regroupe les informations associées:\n",
    "- au microbiome (les villageois)\n",
    "- à l'hôte (Biscotte)\n",
    "- aux seeds (les ressources)\n",
    "- aux targets (l'épée magik qu'on souhaite produire)"
   ]
  },
  {
   "cell_type": "markdown",
   "metadata": {},
   "source": [
    "##### Question 1.7 : Ouvrez le fichier et retrouvez les seeds du système, sous quelle forme sont elles présentées ?"
   ]
  },
  {
   "cell_type": "markdown",
   "metadata": {},
   "source": []
  },
  {
   "cell_type": "markdown",
   "metadata": {},
   "source": [
    "##### Question 1.8 : La commande 'scope' permet de se faire une première idée sur les capacités du système. Aidez vous en pour répondre aux questions ci dessous:\n",
    "\n",
    "- Quel équipement (targets) peut produire BISCOTTE (l'hôte) toute seule ?\n",
    "- Quelle est la liste des ressources auxquelles BISCOTTE a accès ? \n",
    "- Est ce qu'il est possible de produire une EPEE en faisant appel aux différents villageois ?"
   ]
  },
  {
   "cell_type": "code",
   "execution_count": null,
   "metadata": {},
   "outputs": [],
   "source": [
    "run_scopes(\n",
    "        lp_instance_file=\"bac_a_chable/Village.lp\"\n",
    "        )\n",
    "# Dans le terminal:\n",
    "# miscoto scopes -a 'bac_a_chable/Village.lp'"
   ]
  },
  {
   "cell_type": "markdown",
   "metadata": {},
   "source": []
  },
  {
   "cell_type": "markdown",
   "metadata": {},
   "source": [
    "##### Question 1.9 : La commande `run_mincom` de miscoto permet de récupérer les communautés minimales. L'option `soup` renvoie par défaut la première solution si plusieurs solutions existent. Lancez la commande. Qui peut aider BISCOTTE à obtenir son EPEE_MAGIK ?"
   ]
  },
  {
   "cell_type": "code",
   "execution_count": null,
   "metadata": {},
   "outputs": [],
   "source": [
    "run_mincom(\n",
    "    option='soup',\n",
    "    lp_instance_file=\"bac_a_chable/Village.lp\",\n",
    "    enumeration=False\n",
    ")\n",
    "\n",
    "# Dans le terminal:\n",
    "# miscoto mincom -a 'bac_a_chable/Village.lp' -o soup"
   ]
  },
  {
   "cell_type": "markdown",
   "metadata": {},
   "source": []
  },
  {
   "cell_type": "markdown",
   "metadata": {},
   "source": [
    "##### Question 1.10 : Pour énumérer toutes les solutions possibles, il faut rajouter l'option `--enumeration`. Modifiez la commande précédente afin de lister l'ensemble des choix s'offrant à BISCOTTE pour obtenir son EPEE_MAGIK."
   ]
  },
  {
   "cell_type": "code",
   "execution_count": null,
   "metadata": {},
   "outputs": [],
   "source": [
    "# REPONSE\n",
    "run_mincom(\n",
    "    option='soup',\n",
    "    lp_instance_file=\"bac_a_chable/Village.lp\",\n",
    "    enumeration=True\n",
    ")\n",
    "\n",
    "# Dans le terminal:\n",
    "# miscoto mincom -a 'bac_a_chable/Village.lp' -o soup --enumeration"
   ]
  },
  {
   "cell_type": "markdown",
   "metadata": {},
   "source": []
  },
  {
   "cell_type": "markdown",
   "metadata": {},
   "source": [
    "##### Question 1.11 : Pour énumérer tous les individus impliqués dans la production d'une épée, il faut cette fois utiliser `--union` à la place d'`enumeration`. Modifiez la commande précédente afin de lister l'union des solutions."
   ]
  },
  {
   "cell_type": "code",
   "execution_count": null,
   "metadata": {},
   "outputs": [],
   "source": [
    "# REPONSE\n",
    "run_mincom(\n",
    "    option='soup',\n",
    "    lp_instance_file=\"bac_a_chable/Village.lp\",\n",
    "    union=True\n",
    ")\n",
    "\n",
    "# Dans le terminal:\n",
    "# miscoto mincom -a 'bac_a_chable/Village.lp' -o soup --union"
   ]
  },
  {
   "cell_type": "markdown",
   "metadata": {},
   "source": []
  },
  {
   "cell_type": "markdown",
   "metadata": {},
   "source": [
    "##### Question 1.12 : Avec miscoto, il est possible de trouver la solution présentant le moins d'échanges grâce à l'option `minexch`. Un peu pressée par le temps et plutôt timide, BISCOTTE cherche à récupérer une EPEE en passant par le minimum d'intermédiaires. Aidez-la à choisir la solution respectant cette contrainte en lançant la commande suivante."
   ]
  },
  {
   "cell_type": "code",
   "execution_count": null,
   "metadata": {},
   "outputs": [],
   "source": [
    "run_mincom(\n",
    "    option='minexch',\n",
    "    lp_instance_file=\"bac_a_chable/Village.lp\"\n",
    ")\n",
    "\n",
    "# Dans le terminal:\n",
    "# miscoto mincom -a 'bac_a_chable/Village.lp' -o minexch"
   ]
  },
  {
   "cell_type": "markdown",
   "metadata": {},
   "source": []
  },
  {
   "cell_type": "markdown",
   "metadata": {},
   "source": [
    "Notez qu'il est aussi possible d'utiliser l'option --enumeration avec minexch"
   ]
  },
  {
   "cell_type": "markdown",
   "metadata": {},
   "source": [
    "##### Question 1.13 : Parmis les deux solutions données par l'option soup --enumeration, la solution donnée par l'option `minexch` est elle la meilleure des deux ? Pourquoi ? Aidez vous du graphe reconstruit pour répondre à la question et vérifier votre réponse en lançant la commande appropriée."
   ]
  },
  {
   "cell_type": "markdown",
   "metadata": {},
   "source": []
  },
  {
   "cell_type": "code",
   "execution_count": null,
   "metadata": {},
   "outputs": [],
   "source": [
    "run_mincom(\n",
    "    option='minexch',\n",
    "    lp_instance_file=\"bac_a_chable/Village.lp\",\n",
    "    enumeration=True\n",
    ")\n",
    "\n",
    "# miscoto mincom -a 'bac_a_chable/Village.lp' -o minexch --enumeration"
   ]
  },
  {
   "cell_type": "markdown",
   "metadata": {},
   "source": [
    "##### Question 1.14 : Il y a une soudaine pénurie de minerais. Supprimez le minerais des ressources disponibles dans le fichier \"Village.lp\". Quelle sont maintenant la ou les meilleure(s) option(s) pour que BISCOTTE récupère son EPEE avec le moins d'intermédiares possibles ?"
   ]
  },
  {
   "cell_type": "markdown",
   "metadata": {},
   "source": []
  },
  {
   "cell_type": "code",
   "execution_count": null,
   "metadata": {},
   "outputs": [],
   "source": [
    "run_mincom(\n",
    "    option='minexch',\n",
    "    lp_instance_file=\"bac_a_chable/Village.lp\",\n",
    "    enumeration=True\n",
    ")\n",
    "# miscoto mincom -a 'bac_a_chable/Village.lp' -o minexch --enumeration"
   ]
  },
  {
   "cell_type": "markdown",
   "metadata": {},
   "source": [
    "## Partie II - Les rocambolesques aventures des bactéries d'un humain sous stress"
   ]
  },
  {
   "cell_type": "markdown",
   "metadata": {},
   "source": [
    "En tant que chercheurs chez Freshscent nous cherchons à développer un nouveau déodorant révolutionnaire, le nouveau déodorant des sportifs et des stressés, Florescent. \n",
    "L'équipe marketing a identifié que les odeurs corporelles étaient un véritable fléau social, impactant une importante proportion de la population courante. Ce nouveau déodorant aura la particularité de transformer vos odeurs corporelles malodorantes en un véritable bouquet fleuri. Inspirés des probiotiques efficaces sur les symptômes digestifs, l’hygiène quotidienne devient maintenant vivante et bio-dynamique. Après de multiples réunions pour convaincre l'équipe R&D du bien fondé de leur idée, cette dernière s'est attelée à la tâche. Des évidences bibliographiques ont montré qu'un sous échantillon du microbiote de la peau était capable de métaboliser l'urée, responsable de l'odeur malodorante de la sueur, en acétate de neryl, un composé avec une douce odeur de rose. Le but de cette partie du TP est d'aider vos collègues biologistes à identifier des sous-ensembles minimaux de bactéries capables de transformer l'urée en acétate de neryl. Ce sous ensemble de bactéries pourra alors être encapsulé et protégé dans une résine végétale et ajouté dans le déodorant. Le contact de l’eau produite lors de la transpiration libèrera les bactéries des capsules végétales. Les micro-organismes dynamiques entameront alors un développement naturel, influençant le microbiote cutané commensal, l’ensemble créant en moins de 2 heures un nouveau bouclier bio-dynamique renforcé, diversifié et à la riche odeur de rose. La transpiration, ça peut avoir du bon avec Florescent !\n",
    "\n",
    "Vous avez à votre disposition pour commencer les bactéries disponibles dans le laboratoire, qui sont capables de survivre dans ce milieu et qui ont de sucroit un rôle protecteur de votre couche cutanée, ainsi que de l'urée.\n",
    "\n",
    "Les données sont contenues dans le dossier `cas biologique`. Celui-ci présente la même structure que les données sur lesquelles vous avez travaillé précédemment. Les questions seront moins guidées, et auront pour objectif de reconstruire une portion de la réflexion proposée par l'article [Scalable and exhaustive screening of metabolic functions carried out by microbial consortia](https://doi.org/10.1093/bioinformatics/bty588).\n",
    "\n",
    "```\n",
    "cas_biologique/\n",
    "├─ bacteria-reduced/\n",
    "│  ├─ Actinobacillus_pleuropneumoniae.xml\n",
    "│  ├─ Bacillus_cereus.xml\n",
    "│  ├─ Bacillus_sonorensis.xml\n",
    "│  ├─ Bacteroides_sudatus.xml\n",
    "│  ├─ Bacteroides_odorus.xml\n",
    "│  ├─ Bacteroides_transpirum.xml\n",
    "│  ├─ Brevibacterium_moistis.xml\n",
    "│  ├─ Clostridium_hiranonis.xml\n",
    "│  ├─ Collinsella_aerofaciens.xml\n",
    "│  ├─ Helicobacter_pylori.xml\n",
    "├─ Bacteroides_ovatus.xml\n",
    "├─ Human.xml\n",
    "├─ seeds.xml\n",
    "├─ targets.xml\n",
    "```"
   ]
  },
  {
   "cell_type": "markdown",
   "metadata": {},
   "source": [
    "##### Pour rappel, les commandes vu précedemment sont listées ci dessous, utilisez les afin de répondre aux questions suivantes.\n",
    "\n",
    "`SCOPES`\n",
    "\n",
    "Renvoie la plus-value apportée par un groupe à l'environnement.\n",
    "*Exemple : un ensemble de charpentiers dans une forêt peuvent construire une maison.*\n",
    "\n",
    "`FOCUS`\n",
    "\n",
    "Renvoie ce que peut produire un individu au sein du groupe sans prendre en compte ce qu'il a la capacité de produire seul.\n",
    "\n",
    "`INSTANCE`\n",
    "\n",
    "Renvoie la combinaison des fiches de compétences du groupe, ainsi que tout ce qu'il y a dans l'environnement et ce que l'on cherche à obtenir. On obtient en sortie un fichier plus lisible, et plus simple à modifier.\n",
    "\n",
    "`MINCOM`\n",
    "\n",
    "Renvoie la communauté minimale. \n",
    "\n",
    "+ **enumeration** : affiche toutes les solutions possibles de communautés minimales. Cette méthode peut prendre du temps sur de gros fichiers.\n",
    "+ **union** : liste l'union des individus présents dans les différentes communautés minimales.\n",
    "\n",
    "+ **option** peut prendre un de ces deux valeurs :\n",
    "    + **soup** : renvoie une solution de communauté minimale. Elle peut être combinée avec --enumeration et --union.\n",
    "    + **minexch** : renvoie la communauté minimale avec le plus petit nombre d'échanges parmi toutes les solutions minimales. Elle peut être combinée avec --enumeration et --union.\n",
    "\n",
    "\n",
    "\n",
    "##### Remarques\n",
    "\n",
    "Toutes ces commandes acceptent en paramètre `output_json='path_to_json_file.json'` ; n'hésitez pas à l'utiliser pour récupérer vos résultats.\n",
    "Par ailleurs, en Python, il est possible d'écrire `results=load(open(f\"path_to_json_file.json\", \"r\"))` pour charger dans la variable `results` le contenu du fichier .json sous forme de dictionnaire."
   ]
  },
  {
   "cell_type": "markdown",
   "metadata": {},
   "source": [
    "##### Question 2.1 : La première étape est de définir un milieu de culture approprié pour nos bactéries. Nous souhaitons vérifier si à partir du métabolite `UREE` notre ensemble de bactéries peut produire le métabolite `NERYL_ACETATE`. Ecrivez la commande vous permettant de vérifier que `NERYL_ACETATE` est productible."
   ]
  },
  {
   "cell_type": "code",
   "execution_count": null,
   "metadata": {},
   "outputs": [],
   "source": []
  },
  {
   "cell_type": "markdown",
   "metadata": {},
   "source": []
  },
  {
   "cell_type": "markdown",
   "metadata": {},
   "source": [
    "##### Question 2.2 : Après quelques recherches vous décidez d'ajouter maintenant les métabolites `ETHYL_ACETATE` et `MEVALONATE` en entrée du système en les ajoutant au fichier seeds.xml. Est-ce que `NERYL_ACETATE` est maintenant productible ? Quelles sont les bactéries qui le produisent ?"
   ]
  },
  {
   "cell_type": "code",
   "execution_count": null,
   "metadata": {},
   "outputs": [],
   "source": []
  },
  {
   "cell_type": "markdown",
   "metadata": {},
   "source": []
  },
  {
   "cell_type": "markdown",
   "metadata": {},
   "source": [
    "##### Question 2.3 Voici le schéma des réactions impliquées. Complétez le en accords avec les informations données précédemment."
   ]
  },
  {
   "cell_type": "markdown",
   "metadata": {},
   "source": [
    "<img src='pics/cas_biologique_a_trou_début.png'>"
   ]
  },
  {
   "cell_type": "markdown",
   "metadata": {},
   "source": []
  },
  {
   "cell_type": "markdown",
   "metadata": {},
   "source": [
    "##### Question 2.4 : Chargez la sortie .json de la question précédente dans un dictionnaire, et parcourez-le. A quoi correspond la liste associée à la clé `com_scope` ?"
   ]
  },
  {
   "cell_type": "code",
   "execution_count": null,
   "metadata": {},
   "outputs": [],
   "source": []
  },
  {
   "cell_type": "markdown",
   "metadata": {},
   "source": []
  },
  {
   "cell_type": "markdown",
   "metadata": {},
   "source": [
    "##### Question 2.5: Le métabolite `NERYL_ACETATE` est il produit de façon triviale (unique bactérie) ou via une coopération entre bactéries ? Écrivez la commande appropriée afin d’obtenir la liste de toutes les communautés minimales capables de produire le composé. Combien en existe-il ? Quelle taille font elles ?"
   ]
  },
  {
   "cell_type": "code",
   "execution_count": null,
   "metadata": {},
   "outputs": [],
   "source": []
  },
  {
   "cell_type": "markdown",
   "metadata": {},
   "source": []
  },
  {
   "cell_type": "markdown",
   "metadata": {},
   "source": [
    "##### Question 2.6 : En vous aidant des résultats obtenus précédemment, comment interpréter cette multiplicité de solutions dans un cadre biologique ?"
   ]
  },
  {
   "cell_type": "markdown",
   "metadata": {},
   "source": []
  },
  {
   "cell_type": "markdown",
   "metadata": {},
   "source": [
    "##### Question 2.7: Afin d'y voir un peu plus clair, quelle commande permettrait de lister directement (de façon unique) les bactéries d'intérêt impliquées dans la production du `NERYL_ACETATE` ?"
   ]
  },
  {
   "cell_type": "code",
   "execution_count": null,
   "metadata": {},
   "outputs": [],
   "source": []
  },
  {
   "cell_type": "markdown",
   "metadata": {},
   "source": []
  },
  {
   "cell_type": "markdown",
   "metadata": {},
   "source": [
    "##### Question 2.8 : Cette méthode, rapide à exécuter, fait toutefois perdre de l’information biologique : les collaborations nécessaires pour produire un métabolite. Il existe une autre façon de réduire le nombre de solutions sans perdre d’information, laquelle ? Écrivez la commande correspondante. Combien de solutions obtient-on ? Que pouvez vous en déduire ?"
   ]
  },
  {
   "cell_type": "code",
   "execution_count": null,
   "metadata": {},
   "outputs": [],
   "source": []
  },
  {
   "cell_type": "markdown",
   "metadata": {},
   "source": []
  },
  {
   "cell_type": "markdown",
   "metadata": {},
   "source": [
    "Vous communiquez ces résultats aux biologistes de l'équipe. Malheuresement le `MEVALONATE` n'est pas un composé que l'on retrouve dans le métabolisme humain. Les biologistes décident alors de modifier génétiquement une bactérie pour intégrer la réaction suivante à son métabolisme :\n",
    "\n",
    "<img src='pics/cas_biologique_add.png'>\n",
    "\n",
    "\n",
    "Cette bactérie est capable de produire du `MVA` à partir de l'`INDOLE`, un composé très présent au niveau des zones de sudation.\n"
   ]
  },
  {
   "cell_type": "markdown",
   "metadata": {},
   "source": [
    "##### Question 2.9 : Quel est l'interet de cette modification des biologistes ?"
   ]
  },
  {
   "cell_type": "markdown",
   "metadata": {},
   "source": []
  },
  {
   "cell_type": "markdown",
   "metadata": {},
   "source": [
    "##### Question 2.10 :  Ajoutez manuellement cette réaction au schéma complété précedemment."
   ]
  },
  {
   "cell_type": "markdown",
   "metadata": {},
   "source": []
  },
  {
   "cell_type": "markdown",
   "metadata": {},
   "source": [
    "##### Question 2.11 : Ajoutez l'`INDOLE` dans le fichier seeds.xml. Ajoutez la bactérie Bactéroides_ovatus dans le répertoire 'cas_biologique'. Quel est l'impact de rajouter une bactérie dans ce dossier ? "
   ]
  },
  {
   "cell_type": "markdown",
   "metadata": {},
   "source": []
  },
  {
   "cell_type": "markdown",
   "metadata": {},
   "source": [
    "##### Question 2.12 : Relancez la commande précédente. Quel changement observez vous dans les résultats ? En vous aidant du schéma, quelle hypothèse pourrait on faire sur le nombre de bactéries originellement impliquées dans la production et consommation de MVA dans le réseau ? (avant l'ajout de Bacteroides_ovatus)"
   ]
  },
  {
   "cell_type": "code",
   "execution_count": null,
   "metadata": {},
   "outputs": [],
   "source": []
  },
  {
   "cell_type": "markdown",
   "metadata": {},
   "source": []
  },
  {
   "cell_type": "markdown",
   "metadata": {},
   "source": [
    "##### Question 2.13 : On dispose également d’un fichier modélisant l’hôte humain. Il est temps de simuler si nos bactéries et notre hote peuvent produire ensemble `NERYL ACETATE`. Écrivez la commande permettant de visualiser l’ensemble des composés produits par l’association des bactéries et de l’hôte. "
   ]
  },
  {
   "cell_type": "code",
   "execution_count": null,
   "metadata": {},
   "outputs": [],
   "source": []
  },
  {
   "cell_type": "markdown",
   "metadata": {},
   "source": []
  },
  {
   "cell_type": "markdown",
   "metadata": {},
   "source": [
    "##### Question 2.14 : Listez la liste des bactéries nécessaires pour obtenir le composé d'intérêt, en incluant l'hôte cette fois. Remarquez-vous des changements ? Si oui, à quoi sont-ils liés ? Si non, pourquoi ?"
   ]
  },
  {
   "cell_type": "code",
   "execution_count": null,
   "metadata": {},
   "outputs": [],
   "source": []
  },
  {
   "cell_type": "markdown",
   "metadata": {},
   "source": []
  },
  {
   "cell_type": "markdown",
   "metadata": {},
   "source": [
    "## Partie III : Les rocambolesques questions bonus"
   ]
  },
  {
   "cell_type": "markdown",
   "metadata": {},
   "source": [
    "<img src='graph_relation.png' width=\"569\" height=\"430\">\n",
    "\n",
    "Dans l'article [Scalable and exhaustive screening of metabolic functions carried out by microbial consortia](https://doi.org/10.1093/bioinformatics/bty588), lorsqu'ils travaillaient sur un grand jeu de données, les auteurs ont effectué un calcul de l'union des solutions. Or, on a pu voir qu'utiliser union faisait perdre l'information biologique du nombre de communautés minimales.\n",
    "\n",
    "##### Question 3.1 : Quel est l'intérêt de faire un calcul d'union plutôt que d'énumération ?"
   ]
  },
  {
   "cell_type": "markdown",
   "metadata": {},
   "source": []
  },
  {
   "cell_type": "markdown",
   "metadata": {},
   "source": [
    "###### Question 3.2 : Quelles sont d'après vous les limites de Miscoto ?"
   ]
  },
  {
   "cell_type": "markdown",
   "metadata": {},
   "source": []
  },
  {
   "cell_type": "markdown",
   "metadata": {},
   "source": [
    "##### Question 3.3 : Comparez les métabolites produits par deux des bactéries. Lesquels sont en commun ?\n",
    "\n",
    "Conseil : sauvegardez les sorties au format .json pour pouvoir les recharger avec la méthode `load` de la librairie `json`."
   ]
  },
  {
   "cell_type": "code",
   "execution_count": null,
   "metadata": {},
   "outputs": [],
   "source": []
  },
  {
   "cell_type": "markdown",
   "metadata": {},
   "source": []
  },
  {
   "cell_type": "markdown",
   "metadata": {},
   "source": [
    "##### Question 3.4 : Tracez, pour le jeu de données fourni, le graphique en barres représentant le nombre de communautés minimales en fonction des fonctions."
   ]
  },
  {
   "cell_type": "code",
   "execution_count": null,
   "metadata": {},
   "outputs": [],
   "source": [
    "import matplotlib.pyplot as plt"
   ]
  }
 ],
 "metadata": {
  "kernelspec": {
   "display_name": "Python 3 (ipykernel)",
   "language": "python",
   "name": "python3"
  },
  "language_info": {
   "codemirror_mode": {
    "name": "ipython",
    "version": 3
   },
   "file_extension": ".py",
   "mimetype": "text/x-python",
   "name": "python",
   "nbconvert_exporter": "python",
   "pygments_lexer": "ipython3",
   "version": "3.10.8"
  },
  "vscode": {
   "interpreter": {
    "hash": "1a7defa66b68dbab892a952df714b69469a56330ce85434a6f185867705ac253"
   }
  }
 },
 "nbformat": 4,
 "nbformat_minor": 2
}
