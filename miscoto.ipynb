{
 "cells": [
  {
   "cell_type": "code",
   "execution_count": null,
   "metadata": {},
   "outputs": [],
   "source": [
    "import miscoto\n",
    "\n",
    "miscoto.run_mincom(\n",
    "    host_file='toy/orgA.xml',\n",
    "    bacteria_dir='toy/symbionts/',\n",
    "    seeds_file='toy/seeds.xml',\n",
    "    targets_file='toy/targets_A.xml',\n",
    "    option='minexch',\n",
    "    output_json=\"toy_result.json\"\n",
    "    )"
   ]
  },
  {
   "cell_type": "code",
   "execution_count": null,
   "metadata": {},
   "outputs": [],
   "source": [
    "import miscoto\n",
    "\n",
    "miscoto.run_mincom(\n",
    "    host_file='toy_example/Biscotte.xml',\n",
    "    bacteria_dir='toy_example/',\n",
    "    seeds_file='toy_example/Environnement.xml',\n",
    "    targets_file='toy_example/Equipement.xml',\n",
    "    option='minexch',\n",
    "    output_json=\"toy_result.json\"\n",
    "    )"
   ]
  },
  {
   "cell_type": "markdown",
   "metadata": {},
   "source": [
    "SCOPES \\\n",
    "Microbiome only producible targets => 7 \\\n",
    "Microbiome (host and symbionts) metabolites that become producible through cooperation (excluding metabolites that were producible by the host alone) => 13\\\n",
    "\n",
    "from miscoto import run_scopes\\"
   ]
  },
  {
   "cell_type": "code",
   "execution_count": null,
   "metadata": {},
   "outputs": [],
   "source": [
    "miscoto scopes -b 'toy_example/' -s 'toy_example/Environnement.xml' -t'toy_example/Equipement.xml'"
   ]
  },
  {
   "cell_type": "markdown",
   "metadata": {},
   "source": [
    "MINCOM SOUP \n",
    "\n",
    "Minimal set of bacteria of size 6\\\n",
    "Boucher\\\n",
    "Taneur_2\\\n",
    "Berger_2\\\n",
    "Forgeron\\\n",
    "Biscotte\\\n",
    "Menuisier_2"
   ]
  },
  {
   "cell_type": "code",
   "execution_count": null,
   "metadata": {},
   "outputs": [],
   "source": [
    "​miscoto mincom -b 'toy_example/' -s 'toy_example/Environnement.xml' -t'toy_example/Equipement.xml' -o soup"
   ]
  },
  {
   "cell_type": "markdown",
   "metadata": {},
   "source": [
    "MINCOM MINEXCH => Idem que soup, MODIF A FAIRE\\\n",
    "\n",
    "Minimal set of bacteria of size 6\\\n",
    "Forgeron\\\n",
    "Biscotte\\\n",
    "Taneur_2\\\n",
    "Berger_2\\\n",
    "Menuisier_2\\\n",
    "Boucher\\\n",
    "Minimal set of exchanges of size => 2\\\n",
    "        exchange(s) from Forgeron to Biscotte = POINTE_DE_FER\\\n",
    "        exchange(s) from Menuisier_2 to Biscotte = TIGE_DE_BOIS"
   ]
  },
  {
   "cell_type": "code",
   "execution_count": null,
   "metadata": {},
   "outputs": [],
   "source": [
    "​miscoto mincom -b 'toy_example/' -s 'toy_example/Environnement.xml' -t'toy_example/Equipement.xml' -o minexch"
   ]
  },
  {
   "cell_type": "markdown",
   "metadata": {},
   "source": [
    "MINCOM ENUMERATION\n",
    "\n",
    "*** ENUMERATION OF MINIMAL SOLUTION ***\n",
    "\n",
    "Solution 1\n",
    "\n",
    "6 bacterium(ia) in solution 1\\\n",
    "Berger_2\\\n",
    "Taneur_1\\\n",
    "Menuisier_1\\\n",
    "Boucher\\\n",
    "Forgeron\\\n",
    "Biscotte\n",
    "\n",
    "Solution 2\n",
    "\n",
    "6 bacterium(ia) in solution 2\\\n",
    "Menuisier_2\\\n",
    "Berger_2\\\n",
    "Biscotte\\\n",
    "Boucher\\\n",
    "Forgeron\\\n",
    "Taneur_2"
   ]
  },
  {
   "cell_type": "code",
   "execution_count": null,
   "metadata": {},
   "outputs": [],
   "source": [
    "​miscoto mincom -b 'toy_example/' -s 'toy_example/Environnement.xml' -t'toy_example/Equipement.xml' -o soup --enumeration"
   ]
  },
  {
   "cell_type": "markdown",
   "metadata": {},
   "source": [
    "MINCOM UNION => union des solution 1 et 2\n",
    "\n",
    "*** UNION OF MINIMAL SOLUTION ***\n",
    "\n",
    "Union of minimal sets of bacteria, with optimum = 6 comprises 8 bacteria\\\n",
    "Boucher\\\n",
    "Forgeron\\\n",
    "Taneur_1\\\n",
    "Berger_2\\\n",
    "Menuisier_2\\\n",
    "Taneur_2\\\n",
    "Biscotte\\\n",
    "Menuisier_1"
   ]
  },
  {
   "cell_type": "code",
   "execution_count": null,
   "metadata": {},
   "outputs": [],
   "source": [
    "​miscoto mincom -b 'toy_example/' -s 'toy_example/Environnement.xml' -t'toy_example/Equipement.xml' -o soup --union"
   ]
  },
  {
   "cell_type": "markdown",
   "metadata": {},
   "source": [
    "FOCUS, à quoi sert le villageois ?\n",
    "\n",
    "############ Villageois\n",
    "\n",
    "* 2 metabolites producible by Villageois when alone:\n",
    "\n",
    "CUIR\\\n",
    "FLECHES"
   ]
  },
  {
   "cell_type": "code",
   "execution_count": null,
   "metadata": {},
   "outputs": [],
   "source": [
    "# ​miscoto focus -b 'toy_example_2/' -s 'toy_example_2/Environnement.xml' -f 'Villageois'\n",
    "\n",
    "from miscoto import run_focus\n",
    "run_focus(bacteria_dir='toy_example_2/', \\\n",
    "            seeds_file='toy_example_2/Environnement.xml', focus_bact='Villageois', \\\n",
    "            output_json='bouh', all_networks=False)"
   ]
  },
  {
   "cell_type": "markdown",
   "metadata": {},
   "source": [
    "MINCOM SOUP avec le Villageois => reduction de la communauté minimale car le villageois est multitache et pique le boulot des autres ah, Biscotte est contente, elle n'a plus rien à faire\n",
    "\n",
    "Minimal set of bacteria of size 5\n",
    "\n",
    "Villageois\\\n",
    "Forgeron\\\n",
    "Menuisier_1\\\n",
    "Boucher\\\n",
    "Berger_2"
   ]
  },
  {
   "cell_type": "code",
   "execution_count": null,
   "metadata": {},
   "outputs": [],
   "source": [
    "​miscoto mincom -b 'toy_example_2/' -s 'toy_example_2/Environnement.xml' -t'toy_example_2/Equipement.xml' -o soup"
   ]
  },
  {
   "cell_type": "markdown",
   "metadata": {},
   "source": [
    "INSTANCE\n",
    "from miscoto import run_instance"
   ]
  },
  {
   "cell_type": "markdown",
   "metadata": {},
   "source": []
  },
  {
   "cell_type": "code",
   "execution_count": null,
   "metadata": {},
   "outputs": [],
   "source": []
  },
  {
   "cell_type": "markdown",
   "metadata": {},
   "source": []
  },
  {
   "cell_type": "markdown",
   "metadata": {},
   "source": []
  },
  {
   "cell_type": "markdown",
   "metadata": {},
   "source": []
  },
  {
   "cell_type": "markdown",
   "metadata": {},
   "source": []
  },
  {
   "cell_type": "markdown",
   "metadata": {},
   "source": []
  },
  {
   "cell_type": "markdown",
   "metadata": {},
   "source": []
  },
  {
   "cell_type": "markdown",
   "metadata": {},
   "source": [
    "## Introduction"
   ]
  },
  {
   "cell_type": "markdown",
   "metadata": {},
   "source": [
    "+ Qu'est-ce qu'on va faire ? => A FAIRE\n",
    "+ Comment on va le faire ? => OK\n",
    "+ Qu'est-ce que miscoto ? => OK\n",
    "+ Liste des fichiers disponibles, et ce que c'est => OK\n",
    "\n",
    "\n",
    "Présentation de la problématique biologique sur laquelle on centre le TP et du contexte biologique.\n",
    "\n",
    "Ce TP a pour but de ... (dépend de notre choix)\n",
    "\n",
    "Sélectionner des sous-communautées au sein d’un microbiote à de nombreuses applications, comme par exemple mieux comprendre les intéractions entre un eucaryote et son symbiote, afin de developper une communauté synthétique pour des applications industrielle notamment. La recherche d’échanges entre organismes peut être un atout dans la reconstructions de réseaux métaboliques et dans l’annotation de génomes, afin d’élucider par exemple si un hôte est capable de réaliser une fonction spécifique par lui même ou si il repose sur un symbiote. Cela peut être réalisé avec l'outil Miscoto.\n",
    "\n",
    "Miscoto (MIcrobiome Screening and Community selection using TOpology). C'est un outil utilisant la programmation logique (ASP) pour identifier des microbiotes de taille minimale capables de produire des métabolites d’intérets, indépendamment ou via une coopération. La coopération fait référence à des échanges de métabolites entre organismes afin de produire un métabolite d’intéret à partir des métabolites disponibles dans le mileu de culture. Miscoto met ainsi en commun toutes les capacités métaboliques de chaque organisme. Si plusieurs solutions sont disponibles il est aussi possible d’améliorer la sélection en introduisant la notion de nombre d’échanges minimum. En effet, les échanges de métabolites entre organismes étant couteux en énergie, il existe un fort sens biologique à les réduire au maximum. Les solutions générées par l’outil peuvent ensuite être filtrées par des critères biologiques."
   ]
  },
  {
   "cell_type": "markdown",
   "metadata": {},
   "source": [
    "## Procédure d'installation"
   ]
  },
  {
   "cell_type": "markdown",
   "metadata": {},
   "source": [
    "1) Naviguez jusqu'au dossier contenant les fichiers d'environnement.\n",
    "\n",
    "2) Editez le contenu du script bash `create_env.sh` en modifiant la version python, accordément à celle présente sur votre machine.\n",
    "Vous devez avoir une version python >= à 3.6. Si ce n'est pas le cas, installez une distribution python remplissant cette condition. Si vous ne savez pas quelle version de python est installée sur votre machine, utilisez `python3 --version` ou par défaut `python --version`.\n",
    "\n",
    "3) Pour lancer l'environnement, utilisez la commande `source .venv_miscoto/bin/activate` dans le terminal, en étant placé dans le dossier où vous avez créé l'enironnement.\n",
    "\n",
    "4) A ce stade, vous devriez pouvoir vérifier la bonne installation de **miscoto** grâce à la commande `miscoto --version`. Vous pouvez désormais ouvrir le Jupyter Notebook qui contient le sujet du TP avec la commande `jupyter miscoto`.\n",
    "\n",
    "Note : pour quitter l'environnement, utilisez la commande `deactivate` dans le terminal.\n",
    "\n",
    "Vous pouvez par ailleurs retrouver le code source en suivant [ce lien](https://github.com/cfrioux/miscoto)."
   ]
  },
  {
   "cell_type": "markdown",
   "metadata": {},
   "source": [
    "## Partie I - Les rocambolesques aventures de Biscotte, la Chaventurière\n",
    "\n",
    "Dans cette première partie, nous vous proposons de vous familliariser avec les commandes de l'outil.\n",
    "\n",
    "+ Familiariastion avec le format de fichier => OK\n",
    "+ (Représentation sous forme de graphe des fichiers d'exemple ?) => OK\n",
    "+ Exercice à la main avant de lancer la commande miscoto => PAS FAIT\n",
    "+ Faire modifier les fichiers / dessiner un graphe à la base des résultats => OK (à la fin)\n",
    "\n",
    "*Dans le village de Sô, champêtre bourgeade perdue parmi les monts, la jeune Biscotte se prépare pour partir à l'aventure. Depuis des semaines, elle entend à la chaverne où elle va se détendre tous les soirs après de dures journées de labeur que dangers et trésors attendent quiconque sera suffisament brave. Probablement enhardie par la boisson, elle s'est décidée à relever tous les défis que ses griffes rencontreraient. Prévoyante quant à son périple, elle a rassemblé de nombreuses victuailles et ressources nécessaires à sa survie, mais il lui manque un bien crucial : une arme pour se battre contre les nombreux dangers sur son chemin. Habile bretteuse, elle escompte bien obtenir une lame enchantée pour l'aider à affronter l'adversité. Bien qu'elle sache enchanter son épée, elle ignore comment la forger. Fort embarassée, elle va devoir requérir aux services d'autres chats de la ville pour obtenir sa rapière, et elle dispose de divers moyens. Plusieurs artisans sont installés en ville : Chachôff un forgeron en CDD, Chalumo l'expert forgeron et Chatastrophe son stagiaire. Par ailleurs, elle sait qu'elle pourrait aussi se procurer chez Chaltimbanque le marchand, qui a déplié son étal ce matin même. Un peu pressée et de nature timide, Biscotte souhaite avoir affaire au moins d'intermédiaires possible.*"
   ]
  },
  {
   "cell_type": "markdown",
   "metadata": {},
   "source": [
    "Vous disposez du dossier `bac_a_chable` pour modéliser la situation. Il contient un certain nombre de fichiers, organisés comme suit :\n",
    "```\n",
    "bac_a_chable/\n",
    "├─ Villageois/\n",
    "│  ├─ CHATASTROPHE.xml\n",
    "│  ├─ CHACHOFF.xml\n",
    "│  ├─ CHALUMO.xml\n",
    "│  ├─ CHALTIMBANQUE.xml\n",
    "├─ BISCOTTE.xml\n",
    "├─ EQUIPEMENTS.xml\n",
    "├─ RESSOURCES.xml\n",
    "```\n",
    "Les **seeds** de votre système sont le fichier `RESSOURCES.xml`. Il contient ce qui est présent dans le milieu naturel.\n",
    "\n",
    "Les **targets** de votre système se trouvent dans le fichier `EQUIPEMENTS.xml`. Il contient ce qui doit être produit.\n",
    "\n",
    "Commencez par charger les packages nécessaires :"
   ]
  },
  {
   "cell_type": "code",
   "execution_count": 1,
   "metadata": {},
   "outputs": [
    {
     "ename": "FileNotFoundError",
     "evalue": "[WinError 2] Le fichier spécifié est introuvable",
     "output_type": "error",
     "traceback": [
      "\u001b[1;31m---------------------------------------------------------------------------\u001b[0m",
      "\u001b[1;31mFileNotFoundError\u001b[0m                         Traceback (most recent call last)",
      "Cell \u001b[1;32mIn [1], line 1\u001b[0m\n\u001b[1;32m----> 1\u001b[0m \u001b[39mfrom\u001b[39;00m \u001b[39mmiscoto\u001b[39;00m \u001b[39mimport\u001b[39;00m run_focus, run_scopes, run_instance, run_mincom\n\u001b[0;32m      2\u001b[0m \u001b[39mfrom\u001b[39;00m \u001b[39mjson\u001b[39;00m \u001b[39mimport\u001b[39;00m load\n",
      "File \u001b[1;32m~\\AppData\\Local\\Packages\\PythonSoftwareFoundation.Python.3.10_qbz5n2kfra8p0\\LocalCache\\local-packages\\Python310\\site-packages\\miscoto\\__init__.py:15\u001b[0m\n\u001b[0;32m      1\u001b[0m \u001b[39m# Copyright (C) 2018-2021 Clémence Frioux & Arnaud Belcour - Inria Dyliss - Pleiade\u001b[39;00m\n\u001b[0;32m      2\u001b[0m \u001b[39m# This program is free software: you can redistribute it and/or modify\u001b[39;00m\n\u001b[0;32m      3\u001b[0m \u001b[39m# it under the terms of the GNU Lesser General Public License as published by\u001b[39;00m\n\u001b[1;32m   (...)\u001b[0m\n\u001b[0;32m     12\u001b[0m \u001b[39m# You should have received a copy of the GNU Lesser General Public License\u001b[39;00m\n\u001b[0;32m     13\u001b[0m \u001b[39m# along with this program. If not, see <http://www.gnu.org/licenses/>\u001b[39;00m\n\u001b[1;32m---> 15\u001b[0m \u001b[39mfrom\u001b[39;00m \u001b[39mmiscoto\u001b[39;00m\u001b[39m.\u001b[39;00m\u001b[39mmiscoto_instance\u001b[39;00m \u001b[39mimport\u001b[39;00m run_instance\n\u001b[0;32m     16\u001b[0m \u001b[39mfrom\u001b[39;00m \u001b[39mmiscoto\u001b[39;00m\u001b[39m.\u001b[39;00m\u001b[39mmiscoto_mincom\u001b[39;00m \u001b[39mimport\u001b[39;00m run_mincom\n\u001b[0;32m     17\u001b[0m \u001b[39mfrom\u001b[39;00m \u001b[39mmiscoto\u001b[39;00m\u001b[39m.\u001b[39;00m\u001b[39mmiscoto_scopes\u001b[39;00m \u001b[39mimport\u001b[39;00m run_scopes\n",
      "File \u001b[1;32m~\\AppData\\Local\\Packages\\PythonSoftwareFoundation.Python.3.10_qbz5n2kfra8p0\\LocalCache\\local-packages\\Python310\\site-packages\\miscoto\\miscoto_instance.py:23\u001b[0m\n\u001b[0;32m     21\u001b[0m \u001b[39mimport\u001b[39;00m \u001b[39mtime\u001b[39;00m\n\u001b[0;32m     22\u001b[0m \u001b[39mimport\u001b[39;00m \u001b[39mlogging\u001b[39;00m\n\u001b[1;32m---> 23\u001b[0m \u001b[39mfrom\u001b[39;00m \u001b[39mmiscoto\u001b[39;00m \u001b[39mimport\u001b[39;00m utils, sbml\n\u001b[0;32m     24\u001b[0m \u001b[39mfrom\u001b[39;00m \u001b[39mos\u001b[39;00m \u001b[39mimport\u001b[39;00m listdir\n\u001b[0;32m     25\u001b[0m \u001b[39mfrom\u001b[39;00m \u001b[39mos\u001b[39;00m\u001b[39m.\u001b[39;00m\u001b[39mpath\u001b[39;00m \u001b[39mimport\u001b[39;00m isfile, join\n",
      "File \u001b[1;32m~\\AppData\\Local\\Packages\\PythonSoftwareFoundation.Python.3.10_qbz5n2kfra8p0\\LocalCache\\local-packages\\Python310\\site-packages\\miscoto\\sbml.py:22\u001b[0m\n\u001b[0;32m     20\u001b[0m \u001b[39mimport\u001b[39;00m \u001b[39mxml\u001b[39;00m\u001b[39m.\u001b[39;00m\u001b[39metree\u001b[39;00m\u001b[39m.\u001b[39;00m\u001b[39mElementTree\u001b[39;00m \u001b[39mas\u001b[39;00m \u001b[39metree\u001b[39;00m\n\u001b[0;32m     21\u001b[0m \u001b[39mfrom\u001b[39;00m \u001b[39mxml\u001b[39;00m\u001b[39m.\u001b[39;00m\u001b[39metree\u001b[39;00m\u001b[39m.\u001b[39;00m\u001b[39mElementTree\u001b[39;00m \u001b[39mimport\u001b[39;00m XML, fromstring, tostring\n\u001b[1;32m---> 22\u001b[0m \u001b[39mfrom\u001b[39;00m \u001b[39mclyngor\u001b[39;00m\u001b[39m.\u001b[39;00m\u001b[39mas_pyasp\u001b[39;00m \u001b[39mimport\u001b[39;00m TermSet, Atom\n\u001b[0;32m     24\u001b[0m \u001b[39mdef\u001b[39;00m \u001b[39mget_model\u001b[39m(sbml):\n\u001b[0;32m     25\u001b[0m     \u001b[39m\"\"\"Get the model of a SBML\u001b[39;00m\n\u001b[0;32m     26\u001b[0m \n\u001b[0;32m     27\u001b[0m \u001b[39m    Args:\u001b[39;00m\n\u001b[1;32m   (...)\u001b[0m\n\u001b[0;32m     31\u001b[0m \u001b[39m        xml.etree.ElementTree.Element: SBML model\u001b[39;00m\n\u001b[0;32m     32\u001b[0m \u001b[39m    \"\"\"\u001b[39;00m\n",
      "File \u001b[1;32m~\\AppData\\Local\\Packages\\PythonSoftwareFoundation.Python.3.10_qbz5n2kfra8p0\\LocalCache\\local-packages\\Python310\\site-packages\\clyngor\\__init__.py:70\u001b[0m\n\u001b[0;32m     66\u001b[0m     \u001b[39massert\u001b[39;00m get_clingo_binary() \u001b[39m==\u001b[39m CLINGO_BIN_PATH\n\u001b[0;32m     69\u001b[0m \u001b[39m# last, clyngor depending modules\u001b[39;00m\n\u001b[1;32m---> 70\u001b[0m \u001b[39mfrom\u001b[39;00m \u001b[39mclyngor\u001b[39;00m\u001b[39m.\u001b[39;00m\u001b[39mupapi\u001b[39;00m \u001b[39mimport\u001b[39;00m converted_types, converted_types_or_symbols\n",
      "File \u001b[1;32m~\\AppData\\Local\\Packages\\PythonSoftwareFoundation.Python.3.10_qbz5n2kfra8p0\\LocalCache\\local-packages\\Python310\\site-packages\\clyngor\\upapi.py:93\u001b[0m\n\u001b[0;32m     90\u001b[0m         \u001b[39mreturn\u001b[39;00m decorated\n\u001b[0;32m     91\u001b[0m     \u001b[39mreturn\u001b[39;00m decorator\n\u001b[1;32m---> 93\u001b[0m converted_types \u001b[39m=\u001b[39m _converted_types(\u001b[39mTrue\u001b[39;49;00m)\n\u001b[0;32m     94\u001b[0m converted_types_or_symbols \u001b[39m=\u001b[39m _converted_types(\u001b[39mFalse\u001b[39;00m)\n",
      "File \u001b[1;32m~\\AppData\\Local\\Packages\\PythonSoftwareFoundation.Python.3.10_qbz5n2kfra8p0\\LocalCache\\local-packages\\Python310\\site-packages\\clyngor\\upapi.py:23\u001b[0m, in \u001b[0;36m_converted_types\u001b[1;34m(ignore_bad_type)\u001b[0m\n\u001b[0;32m     12\u001b[0m \u001b[39mdef\u001b[39;00m \u001b[39m_converted_types\u001b[39m(ignore_bad_type:\u001b[39mbool\u001b[39m\u001b[39m=\u001b[39m\u001b[39mTrue\u001b[39;00m):\n\u001b[0;32m     13\u001b[0m     \u001b[39m\"\"\"Decorator for functions accessed by ASP, using type annotations to\u001b[39;00m\n\u001b[0;32m     14\u001b[0m \u001b[39m    convert input types in their expected type.\u001b[39;00m\n\u001b[0;32m     15\u001b[0m \n\u001b[1;32m   (...)\u001b[0m\n\u001b[0;32m     21\u001b[0m \n\u001b[0;32m     22\u001b[0m \u001b[39m    \"\"\"\u001b[39;00m\n\u001b[1;32m---> 23\u001b[0m     \u001b[39mif\u001b[39;00m \u001b[39mnot\u001b[39;00m clyngor\u001b[39m.\u001b[39;49mhave_python_support() \u001b[39mor\u001b[39;00m \u001b[39mnot\u001b[39;00m clyngor\u001b[39m.\u001b[39mclingo_module_available:\n\u001b[0;32m     24\u001b[0m         \u001b[39mreturn\u001b[39;00m clyngor\u001b[39m.\u001b[39mutils\u001b[39m.\u001b[39mnull_decorator\n\u001b[0;32m     25\u001b[0m     \u001b[39mfrom\u001b[39;00m \u001b[39mclingo\u001b[39;00m \u001b[39mimport\u001b[39;00m symbol\n",
      "File \u001b[1;32m~\\AppData\\Local\\Packages\\PythonSoftwareFoundation.Python.3.10_qbz5n2kfra8p0\\LocalCache\\local-packages\\Python310\\site-packages\\clyngor\\__init__.py:53\u001b[0m, in \u001b[0;36mhave_python_support\u001b[1;34m(py3)\u001b[0m\n\u001b[0;32m     50\u001b[0m \u001b[39mdef\u001b[39;00m \u001b[39mhave_python_support\u001b[39m(py3:\u001b[39mbool\u001b[39m\u001b[39m=\u001b[39m\u001b[39mTrue\u001b[39;00m) \u001b[39m-\u001b[39m\u001b[39m>\u001b[39m \u001b[39mbool\u001b[39m \u001b[39mor\u001b[39;00m \u001b[39mNone\u001b[39;00m:\n\u001b[0;32m     51\u001b[0m     \u001b[39m\"\"\"True if clingo supports python 3 (or 2 if py3 is falsy).\u001b[39;00m\n\u001b[0;32m     52\u001b[0m \u001b[39m    None if no python support at all.\"\"\"\u001b[39;00m\n\u001b[1;32m---> 53\u001b[0m     \u001b[39mreturn\u001b[39;00m utils\u001b[39m.\u001b[39;49mtry_python_availability_in_clingo(py3)\n",
      "File \u001b[1;32m~\\AppData\\Local\\Packages\\PythonSoftwareFoundation.Python.3.10_qbz5n2kfra8p0\\LocalCache\\local-packages\\Python310\\site-packages\\clyngor\\utils.py:327\u001b[0m, in \u001b[0;36mtry_python_availability_in_clingo\u001b[1;34m(py3)\u001b[0m\n\u001b[0;32m    325\u001b[0m \u001b[39mdef\u001b[39;00m \u001b[39mtry_python_availability_in_clingo\u001b[39m(py3\u001b[39m=\u001b[39m\u001b[39mTrue\u001b[39;00m) \u001b[39m-\u001b[39m\u001b[39m>\u001b[39m \u001b[39mbool\u001b[39m:\n\u001b[0;32m    326\u001b[0m     func \u001b[39m=\u001b[39m try_python_availability_in_clingo_module \u001b[39mif\u001b[39;00m clyngor\u001b[39m.\u001b[39mclingo_module_actived() \u001b[39melse\u001b[39;00m try_python_availability_in_clingo_binary\n\u001b[1;32m--> 327\u001b[0m     \u001b[39mreturn\u001b[39;00m func(py3)\n",
      "File \u001b[1;32m~\\AppData\\Local\\Packages\\PythonSoftwareFoundation.Python.3.10_qbz5n2kfra8p0\\LocalCache\\local-packages\\Python310\\site-packages\\clyngor\\utils.py:330\u001b[0m, in \u001b[0;36mtry_python_availability_in_clingo_binary\u001b[1;34m(py3)\u001b[0m\n\u001b[0;32m    329\u001b[0m \u001b[39mdef\u001b[39;00m \u001b[39mtry_python_availability_in_clingo_binary\u001b[39m(py3\u001b[39m=\u001b[39m\u001b[39mTrue\u001b[39;00m) \u001b[39m-\u001b[39m\u001b[39m>\u001b[39m \u001b[39mbool\u001b[39m:\n\u001b[1;32m--> 330\u001b[0m     py_ver \u001b[39m=\u001b[39m clyngor\u001b[39m.\u001b[39;49mclingo_version()\u001b[39m.\u001b[39mget(\u001b[39m'\u001b[39m\u001b[39mpython\u001b[39m\u001b[39m'\u001b[39m)\n\u001b[0;32m    331\u001b[0m     \u001b[39mif\u001b[39;00m \u001b[39mnot\u001b[39;00m py_ver:  \u001b[39m# NB: python is None, if not available\u001b[39;00m\n\u001b[0;32m    332\u001b[0m         \u001b[39mreturn\u001b[39;00m \u001b[39mbool\u001b[39m(py_ver)\n",
      "File \u001b[1;32m~\\AppData\\Local\\Packages\\PythonSoftwareFoundation.Python.3.10_qbz5n2kfra8p0\\LocalCache\\local-packages\\Python310\\site-packages\\clyngor\\solving.py:182\u001b[0m, in \u001b[0;36mclingo_version\u001b[1;34m(clingo_bin_path)\u001b[0m\n\u001b[0;32m    176\u001b[0m \u001b[39mif\u001b[39;00m clyngor\u001b[39m.\u001b[39mclingo_module_actived():\n\u001b[0;32m    177\u001b[0m     \u001b[39mreturn\u001b[39;00m {\n\u001b[0;32m    178\u001b[0m         \u001b[39m'\u001b[39m\u001b[39mclingo version\u001b[39m\u001b[39m'\u001b[39m: clingo\u001b[39m.\u001b[39m__version__,\n\u001b[0;32m    179\u001b[0m         \u001b[39m'\u001b[39m\u001b[39mpython\u001b[39m\u001b[39m'\u001b[39m: \u001b[39m'\u001b[39m\u001b[39m3\u001b[39m\u001b[39m'\u001b[39m \u001b[39mif\u001b[39;00m clyngor\u001b[39m.\u001b[39mutils\u001b[39m.\u001b[39mtry_python_availability_in_clingo_module() \u001b[39melse\u001b[39;00m \u001b[39mNone\u001b[39;00m,\n\u001b[0;32m    180\u001b[0m         \u001b[39m'\u001b[39m\u001b[39mlua\u001b[39m\u001b[39m'\u001b[39m: \u001b[39m'\u001b[39m\u001b[39myes\u001b[39m\u001b[39m'\u001b[39m \u001b[39mif\u001b[39;00m clyngor\u001b[39m.\u001b[39mutils\u001b[39m.\u001b[39mtry_lua_availability_in_clingo_module() \u001b[39melse\u001b[39;00m \u001b[39mNone\u001b[39;00m,\n\u001b[0;32m    181\u001b[0m     }\n\u001b[1;32m--> 182\u001b[0m clingo \u001b[39m=\u001b[39m subprocess\u001b[39m.\u001b[39;49mPopen(\n\u001b[0;32m    183\u001b[0m     [clingo_bin_path \u001b[39mor\u001b[39;49;00m clyngor\u001b[39m.\u001b[39;49mCLINGO_BIN_PATH, \u001b[39m'\u001b[39;49m\u001b[39m--version\u001b[39;49m\u001b[39m'\u001b[39;49m, \u001b[39m'\u001b[39;49m\u001b[39m--outf=2\u001b[39;49m\u001b[39m'\u001b[39;49m],\n\u001b[0;32m    184\u001b[0m     stderr \u001b[39m=\u001b[39;49m subprocess\u001b[39m.\u001b[39;49mPIPE,\n\u001b[0;32m    185\u001b[0m     stdout \u001b[39m=\u001b[39;49m subprocess\u001b[39m.\u001b[39;49mPIPE,\n\u001b[0;32m    186\u001b[0m )\n\u001b[0;32m    187\u001b[0m fields \u001b[39m=\u001b[39m {\n\u001b[0;32m    188\u001b[0m     \u001b[39m'\u001b[39m\u001b[39maddress model\u001b[39m\u001b[39m'\u001b[39m: re\u001b[39m.\u001b[39mcompile(\u001b[39mr\u001b[39m\u001b[39m'\u001b[39m\u001b[39mAddress model: ([3264]\u001b[39m\u001b[39m{2}\u001b[39;00m\u001b[39m)-bit\u001b[39m\u001b[39m'\u001b[39m),\n\u001b[0;32m    189\u001b[0m     \u001b[39m'\u001b[39m\u001b[39mclingo version\u001b[39m\u001b[39m'\u001b[39m: re\u001b[39m.\u001b[39mcompile(\u001b[39mr\u001b[39m\u001b[39m'\u001b[39m\u001b[39mclingo version ([0-9\u001b[39m\u001b[39m\\\u001b[39m\u001b[39m.]+)\u001b[39m\u001b[39m'\u001b[39m),\n\u001b[1;32m   (...)\u001b[0m\n\u001b[0;32m    194\u001b[0m     \u001b[39m'\u001b[39m\u001b[39mlua\u001b[39m\u001b[39m'\u001b[39m: re\u001b[39m.\u001b[39mcompile(\u001b[39mr\u001b[39m\u001b[39m'\u001b[39m\u001b[39mwith[out]\u001b[39m\u001b[39m{\u001b[39m\u001b[39m0,3}\u001b[39m\u001b[39m\\\u001b[39m\u001b[39msLua\u001b[39m\u001b[39m\\\u001b[39m\u001b[39ms?([0-9\u001b[39m\u001b[39m\\\u001b[39m\u001b[39m.]+)?\u001b[39m\u001b[39m'\u001b[39m),  \u001b[39m# same for lua\u001b[39;00m\n\u001b[0;32m    195\u001b[0m }\n\u001b[0;32m    196\u001b[0m stdout \u001b[39m=\u001b[39m clingo\u001b[39m.\u001b[39mcommunicate()[\u001b[39m0\u001b[39m]\u001b[39m.\u001b[39mdecode()\n",
      "File \u001b[1;32mC:\\Program Files\\WindowsApps\\PythonSoftwareFoundation.Python.3.10_3.10.2288.0_x64__qbz5n2kfra8p0\\lib\\subprocess.py:971\u001b[0m, in \u001b[0;36mPopen.__init__\u001b[1;34m(self, args, bufsize, executable, stdin, stdout, stderr, preexec_fn, close_fds, shell, cwd, env, universal_newlines, startupinfo, creationflags, restore_signals, start_new_session, pass_fds, user, group, extra_groups, encoding, errors, text, umask, pipesize)\u001b[0m\n\u001b[0;32m    967\u001b[0m         \u001b[39mif\u001b[39;00m \u001b[39mself\u001b[39m\u001b[39m.\u001b[39mtext_mode:\n\u001b[0;32m    968\u001b[0m             \u001b[39mself\u001b[39m\u001b[39m.\u001b[39mstderr \u001b[39m=\u001b[39m io\u001b[39m.\u001b[39mTextIOWrapper(\u001b[39mself\u001b[39m\u001b[39m.\u001b[39mstderr,\n\u001b[0;32m    969\u001b[0m                     encoding\u001b[39m=\u001b[39mencoding, errors\u001b[39m=\u001b[39merrors)\n\u001b[1;32m--> 971\u001b[0m     \u001b[39mself\u001b[39;49m\u001b[39m.\u001b[39;49m_execute_child(args, executable, preexec_fn, close_fds,\n\u001b[0;32m    972\u001b[0m                         pass_fds, cwd, env,\n\u001b[0;32m    973\u001b[0m                         startupinfo, creationflags, shell,\n\u001b[0;32m    974\u001b[0m                         p2cread, p2cwrite,\n\u001b[0;32m    975\u001b[0m                         c2pread, c2pwrite,\n\u001b[0;32m    976\u001b[0m                         errread, errwrite,\n\u001b[0;32m    977\u001b[0m                         restore_signals,\n\u001b[0;32m    978\u001b[0m                         gid, gids, uid, umask,\n\u001b[0;32m    979\u001b[0m                         start_new_session)\n\u001b[0;32m    980\u001b[0m \u001b[39mexcept\u001b[39;00m:\n\u001b[0;32m    981\u001b[0m     \u001b[39m# Cleanup if the child failed starting.\u001b[39;00m\n\u001b[0;32m    982\u001b[0m     \u001b[39mfor\u001b[39;00m f \u001b[39min\u001b[39;00m \u001b[39mfilter\u001b[39m(\u001b[39mNone\u001b[39;00m, (\u001b[39mself\u001b[39m\u001b[39m.\u001b[39mstdin, \u001b[39mself\u001b[39m\u001b[39m.\u001b[39mstdout, \u001b[39mself\u001b[39m\u001b[39m.\u001b[39mstderr)):\n",
      "File \u001b[1;32mC:\\Program Files\\WindowsApps\\PythonSoftwareFoundation.Python.3.10_3.10.2288.0_x64__qbz5n2kfra8p0\\lib\\subprocess.py:1440\u001b[0m, in \u001b[0;36mPopen._execute_child\u001b[1;34m(self, args, executable, preexec_fn, close_fds, pass_fds, cwd, env, startupinfo, creationflags, shell, p2cread, p2cwrite, c2pread, c2pwrite, errread, errwrite, unused_restore_signals, unused_gid, unused_gids, unused_uid, unused_umask, unused_start_new_session)\u001b[0m\n\u001b[0;32m   1438\u001b[0m \u001b[39m# Start the process\u001b[39;00m\n\u001b[0;32m   1439\u001b[0m \u001b[39mtry\u001b[39;00m:\n\u001b[1;32m-> 1440\u001b[0m     hp, ht, pid, tid \u001b[39m=\u001b[39m _winapi\u001b[39m.\u001b[39;49mCreateProcess(executable, args,\n\u001b[0;32m   1441\u001b[0m                              \u001b[39m# no special security\u001b[39;49;00m\n\u001b[0;32m   1442\u001b[0m                              \u001b[39mNone\u001b[39;49;00m, \u001b[39mNone\u001b[39;49;00m,\n\u001b[0;32m   1443\u001b[0m                              \u001b[39mint\u001b[39;49m(\u001b[39mnot\u001b[39;49;00m close_fds),\n\u001b[0;32m   1444\u001b[0m                              creationflags,\n\u001b[0;32m   1445\u001b[0m                              env,\n\u001b[0;32m   1446\u001b[0m                              cwd,\n\u001b[0;32m   1447\u001b[0m                              startupinfo)\n\u001b[0;32m   1448\u001b[0m \u001b[39mfinally\u001b[39;00m:\n\u001b[0;32m   1449\u001b[0m     \u001b[39m# Child is launched. Close the parent's copy of those pipe\u001b[39;00m\n\u001b[0;32m   1450\u001b[0m     \u001b[39m# handles that only the child should have open.  You need\u001b[39;00m\n\u001b[1;32m   (...)\u001b[0m\n\u001b[0;32m   1453\u001b[0m     \u001b[39m# pipe will not close when the child process exits and the\u001b[39;00m\n\u001b[0;32m   1454\u001b[0m     \u001b[39m# ReadFile will hang.\u001b[39;00m\n\u001b[0;32m   1455\u001b[0m     \u001b[39mself\u001b[39m\u001b[39m.\u001b[39m_close_pipe_fds(p2cread, p2cwrite,\n\u001b[0;32m   1456\u001b[0m                          c2pread, c2pwrite,\n\u001b[0;32m   1457\u001b[0m                          errread, errwrite)\n",
      "\u001b[1;31mFileNotFoundError\u001b[0m: [WinError 2] Le fichier spécifié est introuvable"
     ]
    }
   ],
   "source": [
    "from miscoto import run_focus, run_scopes, run_instance, run_mincom\n",
    "from json import load"
   ]
  },
  {
   "cell_type": "markdown",
   "metadata": {},
   "source": [
    "Ouvrez le fichier `EQUIPEMENT.xml` avec un éditeur de texte."
   ]
  },
  {
   "cell_type": "markdown",
   "metadata": {},
   "source": [
    "##### Question 1.1 : Que cherche t'on à produire ?"
   ]
  },
  {
   "cell_type": "markdown",
   "metadata": {},
   "source": [
    "Réponse : aller consulter le fichier de targets => une épée magique"
   ]
  },
  {
   "cell_type": "markdown",
   "metadata": {},
   "source": [
    "Ouvrez le fichier `CHALUMO.xml` avec un éditeur de texte."
   ]
  },
  {
   "cell_type": "markdown",
   "metadata": {},
   "source": [
    "##### Question 1.2 : Dans combien de réaction(s) Chalumo est-il impliqué ? Listez leur(s) nom(s)."
   ]
  },
  {
   "cell_type": "markdown",
   "metadata": {},
   "source": [
    "Réponse : consulter Chalumo.xml et trouver les solutions"
   ]
  },
  {
   "cell_type": "markdown",
   "metadata": {},
   "source": [
    "##### Question 1.3 : Choisissez une des réactions de la question précédente. Listez-en les réactifs et les produits."
   ]
  },
  {
   "cell_type": "markdown",
   "metadata": {},
   "source": [
    "Réponse : retrouver l'id de la réaction dans la liste des réactions de Chalumo.xml"
   ]
  },
  {
   "cell_type": "markdown",
   "metadata": {},
   "source": [
    "##### Question 1.4 : Il est possible de vérifier le rôle d'un individu au sein d'un système avec la commande `run_focus` de Miscoto. Exécutez le code ci-dessous. Retrouvez-vous bien ce que votre lecture du fichier XML vous avait permis de déterminer ?\n",
    "\n",
    "Notez que l'option output_json permet d'exporter l'ensemble des résultats dans un fichier json."
   ]
  },
  {
   "cell_type": "code",
   "execution_count": null,
   "metadata": {},
   "outputs": [],
   "source": [
    "run_focus(\n",
    "    bacteria_dir='bac_a_chable/Villageois/',\n",
    "    seeds_file='bac_a_chable/RESSOURCES.xml',\n",
    "    focus_bact='CHALUMO',\n",
    "    output_json='CHALUMO.json',\n",
    ")\n",
    "\n",
    "# Dans le terminal:\n",
    "# ​miscoto focus -b 'bac_a_chable/Villageois/' -s 'bac_a_chable/RESSOURCES.xml' -f 'CHALUMO' --output 'CHALUMO.json'"
   ]
  },
  {
   "cell_type": "markdown",
   "metadata": {},
   "source": [
    "Réponse :"
   ]
  },
  {
   "cell_type": "markdown",
   "metadata": {},
   "source": [
    "La commande `instance` permet de combiner les fichiers xml des différents villageois, ressources et équipements afin d'obtenir un seul fichier combinant toutes les informations. Ce fichier est aussi reformatté afin d'être plus lisible qu'un fichier xml. Il est ainsi plus simple à éditer lorsqu'on souhaite réaliser des modifications sur le système. Vous pouvez lancer la commande suivante qui va générer un fichier \"Village.lp\"."
   ]
  },
  {
   "cell_type": "code",
   "execution_count": null,
   "metadata": {},
   "outputs": [],
   "source": [
    "run_instance(\n",
    "    host_file='bac_a_chable/BISCOTTE.xml',\n",
    "    bacteria_dir='bac_a_chable/Villageois',\n",
    "    seeds_file='bac_a_chable/RESSOURCES.xml',\n",
    "    targets_file='bac_a_chable/EQUIPEMENTS.xml',\n",
    "    output='bac_a_chable/Village.lp'\n",
    "    )\n",
    "# Dans le terminal:\n",
    "# miscoto instance -b 'bac_a_chable/Villageois' -m 'bac_a_chable/BISCOTTE.xml' -s 'bac_a_chable/RESSOURCES.xml' -t 'bac_a_chable/EQUIPEMENTS.xml' --out 'bac_a_chable/Village.lp'"
   ]
  },
  {
   "cell_type": "markdown",
   "metadata": {},
   "source": [
    "##### Ce fichier regroupe les informations associées:\n",
    "- au microbiome (les villageois)\n",
    "- à l'hôte (Biscotte)\n",
    "- aux seeds (les ressources)\n",
    "- aux targets (l'épée magik qu'on souhaite produire)"
   ]
  },
  {
   "cell_type": "markdown",
   "metadata": {},
   "source": [
    "##### Question 1.5 : Ouvrez le fichier et donner la liste des seeds du système:"
   ]
  },
  {
   "cell_type": "markdown",
   "metadata": {},
   "source": [
    "Réponse :"
   ]
  },
  {
   "cell_type": "markdown",
   "metadata": {},
   "source": [
    "##### Question 1.6 : La commande 'scope' permet de se faire une première idée sur les capacités du système. Aidez vous en pour répondre aux questions ci dessous:\n",
    "\n",
    "- Quel équipement (targets) peut produire BISCOTTE (l'hôte) toute seule ?\n",
    "- Quelle est la liste des ressources, transformées ou non, auxquelles Biscotte a accès ? \n",
    "- Est ce qu'il est possible de produire une Epée en faisant appel aux différents villageois ?"
   ]
  },
  {
   "cell_type": "code",
   "execution_count": null,
   "metadata": {},
   "outputs": [],
   "source": [
    "run_scopes(\n",
    "        lp_instance_file=\"bac_a_chable/Village.lp\"\n",
    "        )\n",
    "# Dans le terminal:\n",
    "# miscoto scopes -a 'bac_a_chable/Village.lp'"
   ]
  },
  {
   "cell_type": "markdown",
   "metadata": {},
   "source": [
    "Réponse 1:\n",
    "\n",
    "Réponse 2:\n",
    "\n",
    "Réponse 3:"
   ]
  },
  {
   "cell_type": "markdown",
   "metadata": {},
   "source": [
    "##### Question 1.7 : La commande `run_mincom` de miscoto permet de récupérer les communautés minimales. L'option `soup` renvoie par défaut la première solution si plusieurs solution existent. Lancez la commande. Qui peut aider Biscotte à récupérer une épée ?"
   ]
  },
  {
   "cell_type": "code",
   "execution_count": null,
   "metadata": {},
   "outputs": [],
   "source": [
    "run_mincom(\n",
    "    option='soup',\n",
    "    lp_instance_file=\"bac_a_chable/Village.lp\",\n",
    "    enumeration=False\n",
    ")\n",
    "\n",
    "# Dans le terminal:\n",
    "# ​miscoto mincom -a 'bac_a_chable/Village.lp' -o soup"
   ]
  },
  {
   "cell_type": "markdown",
   "metadata": {},
   "source": [
    "Réponse :"
   ]
  },
  {
   "cell_type": "markdown",
   "metadata": {},
   "source": [
    "##### Question 1.8 : Pour énumérer toutes les solutions possibles, il faut rajouter l'option `--enumeration`. Modifiez la commande précédente afin de lister l'ensemble des choix s'offrant à Biscotte pour récupérer une épée."
   ]
  },
  {
   "cell_type": "markdown",
   "metadata": {},
   "source": [
    "Réponse :"
   ]
  },
  {
   "cell_type": "markdown",
   "metadata": {},
   "source": [
    "##### Question 1.9 : Pour énumérer tous les individus impliqués dans la production d'une épée, il faut cette fois utiliser `--union` à la place d'`enumeration`. Modifiez la commande précédente afin de lister l'union des solutions."
   ]
  },
  {
   "cell_type": "markdown",
   "metadata": {},
   "source": [
    "Réponse :"
   ]
  },
  {
   "cell_type": "markdown",
   "metadata": {},
   "source": [
    "##### Question 1.10 : Avec miscoto, il est possible de trouver la solution présentant le moins d'échanges grâce à l'option `minexch`. Un peu pressée par le temps, Biscotte cherche à récupérer une épée en passant par le minimum d'intermédiaires. Aidez-la à choisir la solution respectant cette contrainte."
   ]
  },
  {
   "cell_type": "code",
   "execution_count": null,
   "metadata": {},
   "outputs": [],
   "source": [
    "run_mincom(\n",
    "    option='minexch',\n",
    "    lp_instance_file=\"bac_a_chable/Village.lp\"\n",
    ")\n",
    "\n",
    "# Dans le terminal:\n",
    "# ​miscoto mincom -a 'bac_a_chable/Village.lp' -o minexch"
   ]
  },
  {
   "cell_type": "markdown",
   "metadata": {},
   "source": [
    "Réponse :"
   ]
  },
  {
   "cell_type": "markdown",
   "metadata": {},
   "source": [
    "##### Question 1.11 : Voici les graphes associés aux différents individus. Reconstituez le graphe métabolique du système, c'est à dire l'enchainement des réactions en combinant tous les individus."
   ]
  },
  {
   "cell_type": "markdown",
   "metadata": {},
   "source": [
    "<img src='recap_all.png' width=\"400\" height=\"400\">"
   ]
  },
  {
   "cell_type": "markdown",
   "metadata": {},
   "source": [
    "##### Question 1.12 : La solution donnée par l'option `minexch` est elle meilleure que celle donnée par l'option `soup` ? Pourquoi ? Comment le vérifier ?"
   ]
  },
  {
   "cell_type": "markdown",
   "metadata": {},
   "source": [
    "Réponse : Non, les deux font le même nombre d'échanges. Il est possible de le vérifier en tapant la commande suivante :\n",
    "\n",
    "​miscoto mincom -a 'bac_a_chable/Village.lp' -o minexch --enumeration"
   ]
  },
  {
   "cell_type": "markdown",
   "metadata": {},
   "source": [
    "##### Question 1.13 : Il y a une soudaine pénurie de minerais. Supprimez le minerais des ressources disponibles dans le fichier \"Village.lp\". Quelle sont maintenant la ou les meilleure(s) option(s) pour que Biscotte récupère son épée ?"
   ]
  },
  {
   "cell_type": "markdown",
   "metadata": {},
   "source": [
    "Réponse : seul le marchand est dans les solutions car maintenant les forgerons doivent passer par le marchand pour récupérer du minerais ce qui ajoute un échange pour tous les forgerons. Chalumo passe à deux échanges alors que Chaltimbanque n'en fait toujours qu'un seul."
   ]
  },
  {
   "cell_type": "markdown",
   "metadata": {},
   "source": [
    "## Partie II - Les rocambolesques aventures des bactéries intestinales d'un humain sous stress"
   ]
  },
  {
   "cell_type": "markdown",
   "metadata": {},
   "source": [
    "L’outil a été utilisé pour étudier le microbiome humain et les fonctions associées en utilisant le dataset généré par une étude centrée sur le microbiote humain (HMP). Cela représente 2051 bactéries et 3606 différentes réactions. L’étude a montré que seulement 8 % des fonctions nécessitaient des coopérations entre un maximum de 6 organismes. Elle a aussi mis à jour de nombreuses redondances de fonction au sein du microbiome. Dans cette partie nous allons reproduire une partie de ces résultats."
   ]
  },
  {
   "cell_type": "markdown",
   "metadata": {},
   "source": [
    "##### Les commandes vu précedemment sont listées ci dessous, utilisez les afin de répondre aux questions suivantes.\n",
    "\n",
    "`SCOPES`\n",
    "\n",
    "Renvoie la plus-value apportée par un groupe à l'environnement.\n",
    "*Exemple : un ensemble de charpentiers dans une forêt peuvent construire une maison.*\n",
    "\n",
    "`FOCUS`\n",
    "\n",
    "Renvoie ce que peut produire un individu au sein du groupe sans prendre en compte ce qu'il a la capacité de produire seul.\n",
    "\n",
    "`INSTANCE`\n",
    "\n",
    "Renvoie la combinaison des fiches de compétences du groupe, ainsi que tout ce qu'il y a dans l'environnement et ce que l'on cherche à obtenir. On obtient en sortie un fichier plus lisible, et plus simple à modifier.\n",
    "\n",
    "`MINCOM`\n",
    "\n",
    "Renvoie la communauté minimale. \n",
    "\n",
    "Options\n",
    "+ **soup** : renvoie une solution de communauté minimale. Elle peut être combinée avec une des deux options suivantes :\n",
    "    + --enumeration : affiche toutes les solutions possibles de communautés minimales. Cette méthode peut prendre du temps sur de gros fichiers.\n",
    "    + --union : liste l'union des individus présents dans les différentes communautés minimales.\n",
    "\n",
    "+ **minexch** : renvoie la communauté minimale avec le plus petit nombre d'échanges parmi toutes les solutions minimales.\n",
    "\n",
    "##### Remarques\n",
    "\n",
    "Toutes ces commandes acceptent en paramètre `output_json='path_to_json_file.json'` ; n'hésitez pas à l'utiliser pour récupérer vos résultats.\n",
    "Par ailleurs, en Python, il est possible d'écrire `results=load(open(f\"path_to_json_file.json\", \"r\"))` pour charger dans la variable `results` le contenu du fichier .json sous forme de dictionnaire.\n",
    "\n",
    "\n",
    "La suite des questions portera sur un cas biologique dont les données sont contenues dans le dossier `cas biologique`. Celui-ci présente la même structure que les données sur lesquelles vous avez travaillé précédemment. Les questions seront moins guidées, et auront pour objectif de reconstruire une portion de la réflexion proposée par l'article [Scalable and exhaustive screening of metabolic functions carried out by microbial consortia](https://doi.org/10.1093/bioinformatics/bty588)."
   ]
  },
  {
   "cell_type": "markdown",
   "metadata": {},
   "source": [
    "##### Question 2.1 : Nous souhaitons vérifier si à partir du métabolite ‘MM1’ notre système peut produire le métabolite ‘MM4’. Ecrivez la commande vous permettant de vérifier que `MM4` est productible. Vous pouvez modifier les fichiers ‘seeds.xml’ et ‘targets.xml’ avec les données appropriées."
   ]
  },
  {
   "cell_type": "code",
   "execution_count": null,
   "metadata": {},
   "outputs": [],
   "source": []
  },
  {
   "cell_type": "markdown",
   "metadata": {},
   "source": [
    "Réponse : faire un scope, NON, target 1 n’est pas productible"
   ]
  },
  {
   "cell_type": "markdown",
   "metadata": {},
   "source": [
    "##### Question 2.2 : On ajoute maintenant le métabolite ‘MM2’ à l’entrée de notre système. Est-ce que target1 est productible ? Est-il produit de façon triviale (une seule bactérie impliquée) ou par coopération ?"
   ]
  },
  {
   "cell_type": "code",
   "execution_count": null,
   "metadata": {},
   "outputs": [],
   "source": []
  },
  {
   "cell_type": "markdown",
   "metadata": {},
   "source": [
    "RÉPONSE : faire un scope, OUI, target 1 est productible"
   ]
  },
  {
   "cell_type": "markdown",
   "metadata": {},
   "source": [
    "Nous avons réalisé l’opération avec XX paires seed-target et avons obtenu les résultats suivants: \n",
    "+ pourcentage de targets non productibles = 70%\n",
    "+ pourcentage de targets produits via l’action d’une bactérie seule = 20%\n",
    "+ pourcentage de targets produites par coopération de plusieurs bactéries = 10% \n",
    "\n",
    "##### Question 2.3 : Est-ce que ces résultats sont surprenants ? Pourquoi ?\n"
   ]
  },
  {
   "cell_type": "markdown",
   "metadata": {},
   "source": [
    "Réponse : Non, c’est ce qui était attendu. Vu qu’on ne fournit au système qu’une seule seed cela réduit beaucoup les chances de produire la target."
   ]
  },
  {
   "cell_type": "markdown",
   "metadata": {},
   "source": [
    "##### Question 2.4 : Comparez les métabolites produits par `org1` et `org2`. Lesquels sont en commun ?\n",
    "\n",
    "Conseil : sauvegardez les sorties au format .json pour pouvoir les recharger avec la méthode `load` de la librairie `json`."
   ]
  },
  {
   "cell_type": "code",
   "execution_count": null,
   "metadata": {},
   "outputs": [],
   "source": [
    "# votre code ici\n",
    "\n",
    "org1_results, org2_results = load(open(f\"path_to_json_file_1.json\", \"r\")), load(open(f\"path_to_json_file_2.json\", \"r\"))\n",
    "\n",
    "# votre code ici"
   ]
  },
  {
   "cell_type": "markdown",
   "metadata": {},
   "source": [
    "Réponse : scopes sur 2 bactéries + chargement des fichiers + comparaison de sets"
   ]
  },
  {
   "cell_type": "markdown",
   "metadata": {},
   "source": [
    "##### Question 2.5 : Nous avons identifié que le métabolite ‘MTC’ peut être produit uniquement via une coopération entre bactéries. Écrivez la commande appropriée afin d’obtenir la liste de toutes les communautés minimales capables de produire le composé."
   ]
  },
  {
   "cell_type": "code",
   "execution_count": null,
   "metadata": {},
   "outputs": [],
   "source": []
  },
  {
   "cell_type": "markdown",
   "metadata": {},
   "source": [
    "Réponse : Faire un mincom -o soup –enumeration => Plein de solutions"
   ]
  },
  {
   "cell_type": "markdown",
   "metadata": {},
   "source": [
    "##### Question 2.6 : Comment interpréter cette multiplicité de solutions dans un cadre biologique ?"
   ]
  },
  {
   "cell_type": "markdown",
   "metadata": {},
   "source": [
    "Réponse : Trouver plusieurs solutions pour la production d’une target revient à trouver une importante redondance de fonction au sein du microbiote. Plusieurs bactéries ou ensemble de bactéries sont capables de produire la même chose. Biologiquement parlant, plus une fonction est redondante, plus elle sera « efficace », c’est à dire que plus il y aura de communautés capables de restaurer cette fonction et plus l’organisme sera capable de s’adapter à différentes conditions par exemple. Ces fonctions peuvent aussi être des fonctions vitales ou très utiles à l’organisme."
   ]
  },
  {
   "cell_type": "markdown",
   "metadata": {},
   "source": [
    "##### Question 2.7 : Combien de bactéries peuvent participer à la production de ce composé ?"
   ]
  },
  {
   "cell_type": "code",
   "execution_count": null,
   "metadata": {},
   "outputs": [],
   "source": []
  },
  {
   "cell_type": "markdown",
   "metadata": {},
   "source": [
    "Réponse : Faire un mincom -o soup –union => Plein de bactéries"
   ]
  },
  {
   "cell_type": "markdown",
   "metadata": {},
   "source": [
    "##### Question 2.8 : Cette méthode, rapide à exécuter, fait toutefois perdre de l’information biologique : les collaborations nécessaires pour produire un métabolite. Il existe une autre façon de réduire le nombre de solutions sans perdre d’information, laquelle ? Écrivez la commande correspondante. Combien de solutions obtient-on ?"
   ]
  },
  {
   "cell_type": "code",
   "execution_count": null,
   "metadata": {},
   "outputs": [],
   "source": []
  },
  {
   "cell_type": "markdown",
   "metadata": {},
   "source": [
    "Réponse : Faire un mincom -o minexch –enumeration => Moins de solutions qu’avec soup"
   ]
  },
  {
   "cell_type": "markdown",
   "metadata": {},
   "source": [
    "##### Question 2.9 : Chargez la sortie .json de la question précédente dans un dictionnaire, et parcourez-le. Nous n’avions pas spécifié d’hôte, cependant les résultats associés au scope de l’hôte (clé `host_scope`) ne sont pas vides. A quoi correspondent-ils ?"
   ]
  },
  {
   "cell_type": "code",
   "execution_count": null,
   "metadata": {},
   "outputs": [],
   "source": []
  },
  {
   "cell_type": "markdown",
   "metadata": {},
   "source": [
    "Réponse : Aux seeds"
   ]
  },
  {
   "cell_type": "markdown",
   "metadata": {},
   "source": [
    "##### Question 2.10 : On dispose également d’un fichier modélisant l’hôte. Écrivez la commande permettant de visualiser l’ensemble des composés produits par l’association des bactéries et de l’hôte."
   ]
  },
  {
   "cell_type": "code",
   "execution_count": null,
   "metadata": {},
   "outputs": [],
   "source": []
  },
  {
   "cell_type": "markdown",
   "metadata": {},
   "source": [
    "Réponse : scope avec host"
   ]
  },
  {
   "cell_type": "markdown",
   "metadata": {},
   "source": [
    "##### Question 2.11 : Recalculez les communautés minimales. Remarquez-vous des changements ? Si oui, à quoi sont-ils liés ? Si non, pourquoi ?"
   ]
  },
  {
   "cell_type": "code",
   "execution_count": null,
   "metadata": {},
   "outputs": [],
   "source": []
  },
  {
   "cell_type": "markdown",
   "metadata": {},
   "source": [
    "Réponse : oui, aux réactions dont l'hôte est capable"
   ]
  },
  {
   "cell_type": "markdown",
   "metadata": {},
   "source": [
    "## Partie III : Les rocambolesques questions bonus"
   ]
  },
  {
   "cell_type": "markdown",
   "metadata": {},
   "source": [
    "<img src='graph_relation.png' width=\"569\" height=\"430\">\n",
    "\n",
    "Dans l'article [Scalable and exhaustive screening of metabolic functions carried out by microbial consortia](https://doi.org/10.1093/bioinformatics/bty588), lorsqu'ils travaillaient sur un grand jeu de données, les auteurs ont effectué un calcul de l'union des solutions. Or, on a pu voir qu'utiliser union faisait perdre l'information biologique du nombre de communautés minimales.\n",
    "\n",
    "##### Question 3.1 : Quel est l'intérêt de faire un calcul d'union plutôt que d'énumération ?"
   ]
  },
  {
   "cell_type": "markdown",
   "metadata": {},
   "source": [
    "Réponse : Énumération est très demandeur en ressources computationnelles, tandis que union l’est moins ; par ailleurs, il existe une relation polynômiale entre les deux, ce qui permet d'approcher l’un par l’autre, et déterminer si énumération peut être calculée en un temps raisonnable ou non."
   ]
  },
  {
   "cell_type": "markdown",
   "metadata": {},
   "source": [
    "Question 3.2 : Quelles sont d'après vous les limites de Miscoto ?"
   ]
  },
  {
   "cell_type": "markdown",
   "metadata": {},
   "source": [
    "+ Pas de prise en charge de la stoechiométrie\t\n",
    "+ Pas de prise en compte des dégradations des composés \n",
    "+ Pas d’attention aux éventuelles compétitions et incompatibilités de cultures entre les différents organismes\n",
    "+ Ne vérifie pas si les transports cellulaires sont réalistes ou non biologiquement.\n",
    "+ Les résultats sont donc à prendre avec prudence, surtout qu’ils sont très dépendants de la qualité des annotations disponibles (notamment pour les compartiments cellulaires)."
   ]
  },
  {
   "cell_type": "markdown",
   "metadata": {},
   "source": [
    "##### Question 3.3 : Tracez, pour le jeu de données fourni, le graphique en barres représentant le nombre de communautés minimales en fonction des fonctions."
   ]
  },
  {
   "cell_type": "code",
   "execution_count": null,
   "metadata": {},
   "outputs": [],
   "source": [
    "import matplotlib.pyplot as plt"
   ]
  }
 ],
 "metadata": {
  "kernelspec": {
   "display_name": "Python 3.10.8 64-bit (microsoft store)",
   "language": "python",
   "name": "python3"
  },
  "language_info": {
   "codemirror_mode": {
    "name": "ipython",
    "version": 3
   },
   "file_extension": ".py",
   "mimetype": "text/x-python",
   "name": "python",
   "nbconvert_exporter": "python",
   "pygments_lexer": "ipython3",
   "version": "3.10.8"
  },
  "vscode": {
   "interpreter": {
    "hash": "1a7defa66b68dbab892a952df714b69469a56330ce85434a6f185867705ac253"
   }
  }
 },
 "nbformat": 4,
 "nbformat_minor": 2
}
