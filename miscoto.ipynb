{
 "cells": [
  {
   "cell_type": "code",
   "execution_count": null,
   "metadata": {},
   "outputs": [],
   "source": [
    "import miscoto\n",
    "\n",
    "miscoto.run_mincom(\n",
    "    host_file='toy/orgA.xml',\n",
    "    bacteria_dir='toy/symbionts/',\n",
    "    seeds_file='toy/seeds.xml',\n",
    "    targets_file='toy/targets_A.xml',\n",
    "    option='minexch',\n",
    "    output_json=\"toy_result.json\"\n",
    "    )"
   ]
  },
  {
   "cell_type": "code",
   "execution_count": null,
   "metadata": {},
   "outputs": [],
   "source": [
    "import miscoto\n",
    "\n",
    "miscoto.run_mincom(\n",
    "    host_file='toy_example/Biscotte.xml',\n",
    "    bacteria_dir='toy_example/',\n",
    "    seeds_file='toy_example/Environnement.xml',\n",
    "    targets_file='toy_example/Equipement.xml',\n",
    "    option='minexch',\n",
    "    output_json=\"toy_result.json\"\n",
    "    )"
   ]
  },
  {
   "cell_type": "markdown",
   "metadata": {},
   "source": [
    "SCOPES \\\n",
    "Microbiome only producible targets => 7 \\\n",
    "Microbiome (host and symbionts) metabolites that become producible through cooperation (excluding metabolites that were producible by the host alone) => 13\\\n",
    "\n",
    "from miscoto import run_scopes\\"
   ]
  },
  {
   "cell_type": "code",
   "execution_count": null,
   "metadata": {},
   "outputs": [],
   "source": [
    "miscoto scopes -b 'toy_example/' -s 'toy_example/Environnement.xml' -t'toy_example/Equipement.xml'"
   ]
  },
  {
   "cell_type": "markdown",
   "metadata": {},
   "source": [
    "MINCOM SOUP \n",
    "\n",
    "Minimal set of bacteria of size 6\\\n",
    "Boucher\\\n",
    "Taneur_2\\\n",
    "Berger_2\\\n",
    "Forgeron\\\n",
    "Biscotte\\\n",
    "Menuisier_2"
   ]
  },
  {
   "cell_type": "code",
   "execution_count": null,
   "metadata": {},
   "outputs": [],
   "source": [
    "​miscoto mincom -b 'toy_example/' -s 'toy_example/Environnement.xml' -t'toy_example/Equipement.xml' -o soup"
   ]
  },
  {
   "cell_type": "markdown",
   "metadata": {},
   "source": [
    "MINCOM MINEXCH => Idem que soup, MODIF A FAIRE\\\n",
    "\n",
    "Minimal set of bacteria of size 6\\\n",
    "Forgeron\\\n",
    "Biscotte\\\n",
    "Taneur_2\\\n",
    "Berger_2\\\n",
    "Menuisier_2\\\n",
    "Boucher\\\n",
    "Minimal set of exchanges of size => 2\\\n",
    "        exchange(s) from Forgeron to Biscotte = POINTE_DE_FER\\\n",
    "        exchange(s) from Menuisier_2 to Biscotte = TIGE_DE_BOIS"
   ]
  },
  {
   "cell_type": "code",
   "execution_count": null,
   "metadata": {},
   "outputs": [],
   "source": [
    "​miscoto mincom -b 'toy_example/' -s 'toy_example/Environnement.xml' -t'toy_example/Equipement.xml' -o minexch"
   ]
  },
  {
   "cell_type": "markdown",
   "metadata": {},
   "source": [
    "MINCOM ENUMERATION\n",
    "\n",
    "*** ENUMERATION OF MINIMAL SOLUTION ***\n",
    "\n",
    "Solution 1\n",
    "\n",
    "6 bacterium(ia) in solution 1\\\n",
    "Berger_2\\\n",
    "Taneur_1\\\n",
    "Menuisier_1\\\n",
    "Boucher\\\n",
    "Forgeron\\\n",
    "Biscotte\n",
    "\n",
    "Solution 2\n",
    "\n",
    "6 bacterium(ia) in solution 2\\\n",
    "Menuisier_2\\\n",
    "Berger_2\\\n",
    "Biscotte\\\n",
    "Boucher\\\n",
    "Forgeron\\\n",
    "Taneur_2"
   ]
  },
  {
   "cell_type": "code",
   "execution_count": null,
   "metadata": {},
   "outputs": [],
   "source": [
    "​miscoto mincom -b 'toy_example/' -s 'toy_example/Environnement.xml' -t'toy_example/Equipement.xml' -o soup --enumeration"
   ]
  },
  {
   "cell_type": "markdown",
   "metadata": {},
   "source": [
    "MINCOM UNION => union des solution 1 et 2\n",
    "\n",
    "*** UNION OF MINIMAL SOLUTION ***\n",
    "\n",
    "Union of minimal sets of bacteria, with optimum = 6 comprises 8 bacteria\\\n",
    "Boucher\\\n",
    "Forgeron\\\n",
    "Taneur_1\\\n",
    "Berger_2\\\n",
    "Menuisier_2\\\n",
    "Taneur_2\\\n",
    "Biscotte\\\n",
    "Menuisier_1"
   ]
  },
  {
   "cell_type": "code",
   "execution_count": null,
   "metadata": {},
   "outputs": [],
   "source": [
    "​miscoto mincom -b 'toy_example/' -s 'toy_example/Environnement.xml' -t'toy_example/Equipement.xml' -o soup --union"
   ]
  },
  {
   "cell_type": "markdown",
   "metadata": {},
   "source": [
    "FOCUS, à quoi sert le villageois ?\n",
    "\n",
    "############ Villageois\n",
    "\n",
    "* 2 metabolites producible by Villageois when alone:\n",
    "\n",
    "CUIR\\\n",
    "FLECHES"
   ]
  },
  {
   "cell_type": "code",
   "execution_count": null,
   "metadata": {},
   "outputs": [],
   "source": [
    "# ​miscoto focus -b 'toy_example_2/' -s 'toy_example_2/Environnement.xml' -f 'Villageois'\n",
    "\n",
    "from miscoto import run_focus\n",
    "run_focus(bacteria_dir='toy_example_2/', \\\n",
    "            seeds_file='toy_example_2/Environnement.xml', focus_bact='Villageois', \\\n",
    "            output_json='bouh', all_networks=False)"
   ]
  },
  {
   "cell_type": "markdown",
   "metadata": {},
   "source": [
    "MINCOM SOUP avec le Villageois => reduction de la communauté minimale car le villageois est multitache et pique le boulot des autres ah, Biscotte est contente, elle n'a plus rien à faire\n",
    "\n",
    "Minimal set of bacteria of size 5\n",
    "\n",
    "Villageois\\\n",
    "Forgeron\\\n",
    "Menuisier_1\\\n",
    "Boucher\\\n",
    "Berger_2"
   ]
  },
  {
   "cell_type": "code",
   "execution_count": null,
   "metadata": {},
   "outputs": [],
   "source": [
    "​miscoto mincom -b 'toy_example_2/' -s 'toy_example_2/Environnement.xml' -t'toy_example_2/Equipement.xml' -o soup"
   ]
  },
  {
   "cell_type": "markdown",
   "metadata": {},
   "source": [
    "INSTANCE\n",
    "from miscoto import run_instance"
   ]
  }
 ],
 "metadata": {
  "kernelspec": {
   "display_name": "Python 3 (ipykernel)",
   "language": "python",
   "name": "python3"
  },
  "language_info": {
   "codemirror_mode": {
    "name": "ipython",
    "version": 3
   },
   "file_extension": ".py",
   "mimetype": "text/x-python",
   "name": "python",
   "nbconvert_exporter": "python",
   "pygments_lexer": "ipython3",
   "version": "3.10.7"
  },
  "vscode": {
   "interpreter": {
    "hash": "92639febd7a4edc238c21077ad24fc775e7ff9fe2f6491d319ed3b857ceccde2"
   }
  }
 },
 "nbformat": 4,
 "nbformat_minor": 2
}
