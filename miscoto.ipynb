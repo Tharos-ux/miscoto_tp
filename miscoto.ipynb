{
 "cells": [
  {
   "cell_type": "code",
   "execution_count": 1,
   "metadata": {},
   "outputs": [
    {
     "name": "stdout",
     "output_type": "stream",
     "text": [
      "/home/siegfried/Workspace_Python/miscoto_tp/.venv_miscoto/lib/python3.10/site-packages/miscoto/encodings/community_minexch.lp\n"
     ]
    },
    {
     "data": {
      "text/plain": [
       "{'one_model_targetsproducers': {'f': ['host_metab_mod']},\n",
       " 'bacteria': ['orgB3'],\n",
       " 'still_unprod': [],\n",
       " 'newly_prod': ['f'],\n",
       " 'producible': [],\n",
       " 'one_model': {'exchanged': ['e', 'c', 'orgB3', 'host_metab_mod'],\n",
       "  'chosen_bacteria': ['orgB3'],\n",
       "  'newly_producible_target': ['f'],\n",
       "  'target_producer_coop_selectedcom': {'f': ['host_metab_mod']}},\n",
       " 'exchanged': [{'what': ['e'], 'from_to': ('orgB3', 'host_metab_mod')}]}"
      ]
     },
     "execution_count": 1,
     "metadata": {},
     "output_type": "execute_result"
    }
   ],
   "source": [
    "import miscoto\n",
    "\n",
    "miscoto.run_mincom(\n",
    "    host_file='toy/orgA.xml',\n",
    "    bacteria_dir='toy/symbionts/',\n",
    "    seeds_file='toy/seeds.xml',\n",
    "    targets_file='toy/targets_A.xml',\n",
    "    option='minexch',\n",
    "    output_json=\"toy_result.json\"\n",
    "    )"
   ]
  },
  {
   "cell_type": "code",
   "execution_count": null,
   "metadata": {},
   "outputs": [],
   "source": []
  }
 ],
 "metadata": {
  "kernelspec": {
   "display_name": "Python 3 (ipykernel)",
   "language": "python",
   "name": "python3"
  },
  "language_info": {
   "codemirror_mode": {
    "name": "ipython",
    "version": 3
   },
   "file_extension": ".py",
   "mimetype": "text/x-python",
   "name": "python",
   "nbconvert_exporter": "python",
   "pygments_lexer": "ipython3",
   "version": "3.10.2"
  }
 },
 "nbformat": 4,
 "nbformat_minor": 2
}
