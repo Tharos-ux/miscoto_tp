{
 "cells": [
  {
   "cell_type": "code",
   "execution_count": 2,
   "metadata": {},
   "outputs": [
    {
     "name": "stdout",
     "output_type": "stream",
     "text": [
      "/mnt/Data/M2_IBI/BS2/Projet_TP/miscoto_tp/.venv_miscoto/lib/python3.10/site-packages/miscoto/encodings/community_minexch.lp\n"
     ]
    },
    {
     "data": {
      "text/plain": [
       "{'one_model_targetsproducers': {'f': ['host_metab_mod']},\n",
       " 'bacteria': ['orgB3'],\n",
       " 'still_unprod': [],\n",
       " 'newly_prod': ['f'],\n",
       " 'producible': [],\n",
       " 'one_model': {'newly_producible_target': ['f'],\n",
       "  'chosen_bacteria': ['orgB3'],\n",
       "  'target_producer_coop_selectedcom': {'f': ['host_metab_mod']},\n",
       "  'exchanged': ['e', 'c', 'orgB3', 'host_metab_mod']},\n",
       " 'exchanged': [{'what': ['e'], 'from_to': ('orgB3', 'host_metab_mod')}]}"
      ]
     },
     "execution_count": 2,
     "metadata": {},
     "output_type": "execute_result"
    }
   ],
   "source": [
    "import miscoto\n",
    "\n",
    "miscoto.run_mincom(\n",
    "    host_file='toy/orgA.xml',\n",
    "    bacteria_dir='toy/symbionts/',\n",
    "    seeds_file='toy/seeds.xml',\n",
    "    targets_file='toy/targets_A.xml',\n",
    "    option='minexch',\n",
    "    output_json=\"toy_result.json\"\n",
    "    )"
   ]
  },
  {
   "cell_type": "code",
   "execution_count": 1,
   "metadata": {},
   "outputs": [
    {
     "ename": "ModuleNotFoundError",
     "evalue": "No module named 'miscoto'",
     "output_type": "error",
     "traceback": [
      "\u001b[0;31m---------------------------------------------------------------------------\u001b[0m",
      "\u001b[0;31mModuleNotFoundError\u001b[0m                       Traceback (most recent call last)",
      "Cell \u001b[0;32mIn [1], line 1\u001b[0m\n\u001b[0;32m----> 1\u001b[0m \u001b[39mimport\u001b[39;00m \u001b[39mmiscoto\u001b[39;00m\n\u001b[1;32m      3\u001b[0m miscoto\u001b[39m.\u001b[39mrun_mincom(\n\u001b[1;32m      4\u001b[0m     host_file\u001b[39m=\u001b[39m\u001b[39m'\u001b[39m\u001b[39mtoy_example/Biscotte.xml\u001b[39m\u001b[39m'\u001b[39m,\n\u001b[1;32m      5\u001b[0m     bacteria_dir\u001b[39m=\u001b[39m\u001b[39m'\u001b[39m\u001b[39mtoy_example/\u001b[39m\u001b[39m'\u001b[39m,\n\u001b[0;32m   (...)\u001b[0m\n\u001b[1;32m      9\u001b[0m     output_json\u001b[39m=\u001b[39m\u001b[39m\"\u001b[39m\u001b[39mtoy_result.json\u001b[39m\u001b[39m\"\u001b[39m\n\u001b[1;32m     10\u001b[0m     )\n",
      "\u001b[0;31mModuleNotFoundError\u001b[0m: No module named 'miscoto'"
     ]
    }
   ],
   "source": [
    "import miscoto\n",
    "\n",
    "miscoto.run_mincom(\n",
    "    host_file='toy_example/Biscotte.xml',\n",
    "    bacteria_dir='toy_example/',\n",
    "    seeds_file='toy_example/Environnement.xml',\n",
    "    targets_file='toy_example/Equipement.xml',\n",
    "    option='minexch',\n",
    "    output_json=\"toy_result.json\"\n",
    "    )"
   ]
  },
  {
   "cell_type": "markdown",
   "metadata": {},
   "source": [
    "SCOPES\n",
    "Microbiome only producible targets => 7\n",
    "Microbiome (host and symbionts) metabolites that become producible through cooperation (excluding metabolites that were producible by the host alone) => 13\n",
    "\n",
    "from miscoto import run_scopes"
   ]
  },
  {
   "cell_type": "code",
   "execution_count": null,
   "metadata": {},
   "outputs": [],
   "source": [
    "miscoto scopes -b 'toy_example/' -s 'toy_example/Environnement.xml' -t'toy_example/Equipement.xml'"
   ]
  },
  {
   "cell_type": "markdown",
   "metadata": {},
   "source": [
    "MINCOM SOUP\n",
    "\n",
    "Minimal set of bacteria of size 6\n",
    "Boucher\n",
    "Taneur_2\n",
    "Berger_2\n",
    "Forgeron\n",
    "Biscotte\n",
    "Menuisier_2"
   ]
  },
  {
   "cell_type": "code",
   "execution_count": null,
   "metadata": {},
   "outputs": [],
   "source": [
    "​miscoto mincom -b 'toy_example/' -s 'toy_example/Environnement.xml' -t'toy_example/Equipement.xml' -o soup"
   ]
  },
  {
   "cell_type": "markdown",
   "metadata": {},
   "source": [
    "MINCOM MINEXCH => Idem, MODIF A FAIRE\n",
    "\n",
    "Minimal set of bacteria of size 6\n",
    "Forgeron\n",
    "Biscotte\n",
    "Taneur_2\n",
    "Berger_2\n",
    "Menuisier_2\n",
    "Boucher\n",
    "Minimal set of exchanges of size => 2\n",
    "        exchange(s) from Forgeron to Biscotte = POINTE_DE_FER\n",
    "        exchange(s) from Menuisier_2 to Biscotte = TIGE_DE_BOIS"
   ]
  },
  {
   "cell_type": "code",
   "execution_count": null,
   "metadata": {},
   "outputs": [],
   "source": [
    "​miscoto mincom -b 'toy_example/' -s 'toy_example/Environnement.xml' -t'toy_example/Equipement.xml' -o minexch"
   ]
  },
  {
   "cell_type": "markdown",
   "metadata": {},
   "source": [
    "MINCOM UNION\n",
    "*** UNION OF MINIMAL SOLUTION ***\n",
    "Union of minimal sets of bacteria, with optimum = 6 comprises 8 bacteria\n",
    "Boucher\n",
    "Forgeron\n",
    "Taneur_1\n",
    "Berger_2\n",
    "Menuisier_2\n",
    "Taneur_2\n",
    "Biscotte\n",
    "Menuisier_1"
   ]
  },
  {
   "cell_type": "code",
   "execution_count": null,
   "metadata": {},
   "outputs": [],
   "source": [
    "​miscoto mincom -b 'toy_example/' -s 'toy_example/Environnement.xml' -t'toy_example/Equipement.xml' -o soup --union"
   ]
  },
  {
   "cell_type": "markdown",
   "metadata": {},
   "source": [
    "MINCOM ENUMERATION\n",
    "\n",
    "*** ENUMERATION OF MINIMAL SOLUTION ***\n",
    "\n",
    "Solution 1\n",
    "        6 bacterium(ia) in solution 1\n",
    "        Berger_2\n",
    "        Taneur_1\n",
    "        Menuisier_1\n",
    "        Boucher\n",
    "        Forgeron\n",
    "        Biscotte\n",
    "\n",
    "Solution 2\n",
    "        6 bacterium(ia) in solution 2\n",
    "        Menuisier_2\n",
    "        Berger_2\n",
    "        Biscotte\n",
    "        Boucher\n",
    "        Forgeron\n",
    "        Taneur_2"
   ]
  },
  {
   "cell_type": "code",
   "execution_count": null,
   "metadata": {},
   "outputs": [],
   "source": [
    "​miscoto mincom -b 'toy_example/' -s 'toy_example/Environnement.xml' -t'toy_example/Equipement.xml' -o soup --enumeration"
   ]
  },
  {
   "cell_type": "markdown",
   "metadata": {},
   "source": [
    "FOCUS, à quoi sert le villageois ?\n",
    "\n",
    "############ Villageois\n",
    "* 2 metabolites producible by Villageois when alone:\n",
    "CUIR\n",
    "FLECHES\n",
    "\n",
    "from miscoto import run_focus"
   ]
  },
  {
   "cell_type": "code",
   "execution_count": 2,
   "metadata": {},
   "outputs": [
    {
     "ename": "ModuleNotFoundError",
     "evalue": "No module named 'miscoto'",
     "output_type": "error",
     "traceback": [
      "\u001b[0;31m---------------------------------------------------------------------------\u001b[0m",
      "\u001b[0;31mModuleNotFoundError\u001b[0m                       Traceback (most recent call last)",
      "Cell \u001b[0;32mIn [2], line 1\u001b[0m\n\u001b[0;32m----> 1\u001b[0m \u001b[39mfrom\u001b[39;00m \u001b[39mmiscoto\u001b[39;00m \u001b[39mimport\u001b[39;00m run_focus\n\u001b[1;32m      2\u001b[0m run_focus(bacteria_dir\u001b[39m=\u001b[39m\u001b[39m'\u001b[39m\u001b[39mtoy_example_2/\u001b[39m\u001b[39m'\u001b[39m, \\\n\u001b[1;32m      3\u001b[0m             seeds_file\u001b[39m=\u001b[39m\u001b[39m'\u001b[39m\u001b[39mtoy_example_2/Environnement.xml\u001b[39m\u001b[39m'\u001b[39m, focus_bact\u001b[39m=\u001b[39m\u001b[39m'\u001b[39m\u001b[39mVillageois\u001b[39m\u001b[39m'\u001b[39m, \\\n\u001b[1;32m      4\u001b[0m             output_json\u001b[39m=\u001b[39m\u001b[39m'\u001b[39m\u001b[39mbouh\u001b[39m\u001b[39m'\u001b[39m, all_networks\u001b[39m=\u001b[39m\u001b[39mFalse\u001b[39;00m)\n",
      "\u001b[0;31mModuleNotFoundError\u001b[0m: No module named 'miscoto'"
     ]
    }
   ],
   "source": [
    "# ​miscoto focus -b 'toy_example_2/' -s 'toy_example_2/Environnement.xml' -f 'Villageois'\n",
    "\n",
    "from miscoto import run_focus\n",
    "run_focus(bacteria_dir='toy_example_2/', \\\n",
    "            seeds_file='toy_example_2/Environnement.xml', focus_bact='Villageois', \\\n",
    "            output_json='bouh', all_networks=False)"
   ]
  },
  {
   "cell_type": "markdown",
   "metadata": {},
   "source": [
    "MINCOM SOUP avec le Villageois => reduction de la communauté minimale\n",
    "\n",
    "Minimal set of bacteria of size 5\n",
    "Villageois\n",
    "Forgeron\n",
    "Menuisier_1\n",
    "Boucher\n",
    "Berger_2"
   ]
  },
  {
   "cell_type": "code",
   "execution_count": null,
   "metadata": {},
   "outputs": [],
   "source": [
    "​miscoto mincom -b 'toy_example_2/' -s 'toy_example_2/Environnement.xml' -t'toy_example_2/Equipement.xml' -o soup"
   ]
  },
  {
   "cell_type": "markdown",
   "metadata": {},
   "source": [
    "INSTANCE\n",
    "from miscoto import run_instance"
   ]
  }
 ],
 "metadata": {
  "kernelspec": {
   "display_name": "Python 3 (ipykernel)",
   "language": "python",
   "name": "python3"
  },
  "language_info": {
   "codemirror_mode": {
    "name": "ipython",
    "version": 3
   },
   "file_extension": ".py",
   "mimetype": "text/x-python",
   "name": "python",
   "nbconvert_exporter": "python",
   "pygments_lexer": "ipython3",
   "version": "3.10.7"
  },
  "vscode": {
   "interpreter": {
    "hash": "92639febd7a4edc238c21077ad24fc775e7ff9fe2f6491d319ed3b857ceccde2"
   }
  }
 },
 "nbformat": 4,
 "nbformat_minor": 2
}
