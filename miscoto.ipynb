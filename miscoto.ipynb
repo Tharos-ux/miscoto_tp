{
 "cells": [
  {
   "cell_type": "code",
   "execution_count": null,
   "metadata": {},
   "outputs": [],
   "source": [
    "import miscoto\n",
    "\n",
    "miscoto.run_mincom(\n",
    "    host_file='toy/orgA.xml',\n",
    "    bacteria_dir='toy/symbionts/',\n",
    "    seeds_file='toy/seeds.xml',\n",
    "    targets_file='toy/targets_A.xml',\n",
    "    option='minexch',\n",
    "    output_json=\"toy_result.json\"\n",
    "    )"
   ]
  },
  {
   "cell_type": "code",
   "execution_count": null,
   "metadata": {},
   "outputs": [],
   "source": [
    "import miscoto\n",
    "\n",
    "miscoto.run_mincom(\n",
    "    host_file='toy_example/Biscotte.xml',\n",
    "    bacteria_dir='toy_example/',\n",
    "    seeds_file='toy_example/Environnement.xml',\n",
    "    targets_file='toy_example/Equipement.xml',\n",
    "    option='minexch',\n",
    "    output_json=\"toy_result.json\"\n",
    "    )"
   ]
  },
  {
   "cell_type": "markdown",
   "metadata": {},
   "source": [
    "SCOPES \\\n",
    "Microbiome only producible targets => 7 \\\n",
    "Microbiome (host and symbionts) metabolites that become producible through cooperation (excluding metabolites that were producible by the host alone) => 13\\\n",
    "\n",
    "from miscoto import run_scopes\\"
   ]
  },
  {
   "cell_type": "code",
   "execution_count": null,
   "metadata": {},
   "outputs": [],
   "source": [
    "miscoto scopes -b 'toy_example/' -s 'toy_example/Environnement.xml' -t'toy_example/Equipement.xml'"
   ]
  },
  {
   "cell_type": "markdown",
   "metadata": {},
   "source": [
    "MINCOM SOUP \n",
    "\n",
    "Minimal set of bacteria of size 6\\\n",
    "Boucher\\\n",
    "Taneur_2\\\n",
    "Berger_2\\\n",
    "Forgeron\\\n",
    "Biscotte\\\n",
    "Menuisier_2"
   ]
  },
  {
   "cell_type": "code",
   "execution_count": null,
   "metadata": {},
   "outputs": [],
   "source": [
    "​miscoto mincom -b 'toy_example/' -s 'toy_example/Environnement.xml' -t'toy_example/Equipement.xml' -o soup"
   ]
  },
  {
   "cell_type": "markdown",
   "metadata": {},
   "source": [
    "MINCOM MINEXCH => Idem que soup, MODIF A FAIRE\\\n",
    "\n",
    "Minimal set of bacteria of size 6\\\n",
    "Forgeron\\\n",
    "Biscotte\\\n",
    "Taneur_2\\\n",
    "Berger_2\\\n",
    "Menuisier_2\\\n",
    "Boucher\\\n",
    "Minimal set of exchanges of size => 2\\\n",
    "        exchange(s) from Forgeron to Biscotte = POINTE_DE_FER\\\n",
    "        exchange(s) from Menuisier_2 to Biscotte = TIGE_DE_BOIS"
   ]
  },
  {
   "cell_type": "code",
   "execution_count": null,
   "metadata": {},
   "outputs": [],
   "source": [
    "​miscoto mincom -b 'toy_example/' -s 'toy_example/Environnement.xml' -t'toy_example/Equipement.xml' -o minexch"
   ]
  },
  {
   "cell_type": "markdown",
   "metadata": {},
   "source": [
    "MINCOM ENUMERATION\n",
    "\n",
    "*** ENUMERATION OF MINIMAL SOLUTION ***\n",
    "\n",
    "Solution 1\n",
    "\n",
    "6 bacterium(ia) in solution 1\\\n",
    "Berger_2\\\n",
    "Taneur_1\\\n",
    "Menuisier_1\\\n",
    "Boucher\\\n",
    "Forgeron\\\n",
    "Biscotte\n",
    "\n",
    "Solution 2\n",
    "\n",
    "6 bacterium(ia) in solution 2\\\n",
    "Menuisier_2\\\n",
    "Berger_2\\\n",
    "Biscotte\\\n",
    "Boucher\\\n",
    "Forgeron\\\n",
    "Taneur_2"
   ]
  },
  {
   "cell_type": "code",
   "execution_count": null,
   "metadata": {},
   "outputs": [],
   "source": [
    "​miscoto mincom -b 'toy_example/' -s 'toy_example/Environnement.xml' -t'toy_example/Equipement.xml' -o soup --enumeration"
   ]
  },
  {
   "cell_type": "markdown",
   "metadata": {},
   "source": [
    "MINCOM UNION => union des solution 1 et 2\n",
    "\n",
    "*** UNION OF MINIMAL SOLUTION ***\n",
    "\n",
    "Union of minimal sets of bacteria, with optimum = 6 comprises 8 bacteria\\\n",
    "Boucher\\\n",
    "Forgeron\\\n",
    "Taneur_1\\\n",
    "Berger_2\\\n",
    "Menuisier_2\\\n",
    "Taneur_2\\\n",
    "Biscotte\\\n",
    "Menuisier_1"
   ]
  },
  {
   "cell_type": "code",
   "execution_count": null,
   "metadata": {},
   "outputs": [],
   "source": [
    "​miscoto mincom -b 'toy_example/' -s 'toy_example/Environnement.xml' -t'toy_example/Equipement.xml' -o soup --union"
   ]
  },
  {
   "cell_type": "markdown",
   "metadata": {},
   "source": [
    "FOCUS, à quoi sert le villageois ?\n",
    "\n",
    "############ Villageois\n",
    "\n",
    "* 2 metabolites producible by Villageois when alone:\n",
    "\n",
    "CUIR\\\n",
    "FLECHES"
   ]
  },
  {
   "cell_type": "code",
   "execution_count": null,
   "metadata": {},
   "outputs": [],
   "source": [
    "# ​miscoto focus -b 'toy_example_2/' -s 'toy_example_2/Environnement.xml' -f 'Villageois'\n",
    "\n",
    "from miscoto import run_focus\n",
    "run_focus(bacteria_dir='toy_example_2/', \\\n",
    "            seeds_file='toy_example_2/Environnement.xml', focus_bact='Villageois', \\\n",
    "            output_json='bouh', all_networks=False)"
   ]
  },
  {
   "cell_type": "markdown",
   "metadata": {},
   "source": [
    "MINCOM SOUP avec le Villageois => reduction de la communauté minimale car le villageois est multitache et pique le boulot des autres ah, Biscotte est contente, elle n'a plus rien à faire\n",
    "\n",
    "Minimal set of bacteria of size 5\n",
    "\n",
    "Villageois\\\n",
    "Forgeron\\\n",
    "Menuisier_1\\\n",
    "Boucher\\\n",
    "Berger_2"
   ]
  },
  {
   "cell_type": "code",
   "execution_count": null,
   "metadata": {},
   "outputs": [],
   "source": [
    "​miscoto mincom -b 'toy_example_2/' -s 'toy_example_2/Environnement.xml' -t'toy_example_2/Equipement.xml' -o soup"
   ]
  },
  {
   "cell_type": "markdown",
   "metadata": {},
   "source": [
    "INSTANCE\n",
    "from miscoto import run_instance"
   ]
  },
  {
   "cell_type": "markdown",
   "metadata": {},
   "source": []
  },
  {
   "cell_type": "code",
   "execution_count": null,
   "metadata": {},
   "outputs": [],
   "source": []
  },
  {
   "cell_type": "markdown",
   "metadata": {},
   "source": []
  },
  {
   "cell_type": "markdown",
   "metadata": {},
   "source": []
  },
  {
   "cell_type": "markdown",
   "metadata": {},
   "source": []
  },
  {
   "cell_type": "markdown",
   "metadata": {},
   "source": []
  },
  {
   "cell_type": "markdown",
   "metadata": {},
   "source": []
  },
  {
   "cell_type": "markdown",
   "metadata": {},
   "source": []
  },
  {
   "cell_type": "markdown",
   "metadata": {},
   "source": [
    "## Introduction"
   ]
  },
  {
   "cell_type": "markdown",
   "metadata": {},
   "source": [
    "+ Qu'est-ce qu'on va faire ? => A FAIRE\n",
    "+ Comment on va le faire ? => OK\n",
    "+ Qu'est-ce que miscoto ? => OK\n",
    "+ Liste des fichiers disponibles, et ce que c'est => OK\n",
    "\n",
    "\n",
    "Présentation de la problématique biologique sur laquelle on centre le TP et du contexte biologique.\n",
    "\n",
    "Ce TP a pour but de ... (dépend de notre choix)\n",
    "\n",
    "Sélectionner des sous-communautées au sein d’un microbiote à de nombreuses applications, comme par exemple mieux comprendre les intéractions entre un eucaryote et son symbiote, afin de developper une communauté synthétique pour des applications industrielle notamment. La recherche d’échanges entre organismes peut être un atout dans la reconstructions de réseaux métaboliques et dans l’annotation de génomes, afin d’élucider par exemple si un hôte est capable de réaliser une fonction spécifique par lui même ou si il repose sur un symbiote. Cela peut être réalisé avec l'outil Miscoto.\n",
    "\n",
    "Miscoto (MIcrobiome Screening and Community selection using TOpology). C'est un outil utilisant la programmation logique (ASP) pour identifier des microbiotes de taille minimale capables de produire des métabolites d’intérets, indépendamment ou via une coopération. La coopération fait référence à des échanges de métabolites entre organismes afin de produire un métabolite d’intéret à partir des métabolites disponibles dans le mileu de culture. Miscoto met ainsi en commun toutes les capacités métaboliques de chaque organisme. Si plusieurs solutions sont disponibles il est aussi possible d’améliorer la sélection en introduisant la notion de nombre d’échanges minimum. En effet, les échanges de métabolites entre organismes étant couteux en énergie, il existe un fort sens biologique à les réduire au maximum. Les solutions générées par l’outil peuvent ensuite être filtrées par des critères biologiques."
   ]
  },
  {
   "cell_type": "markdown",
   "metadata": {},
   "source": [
    "## Procédure d'installation"
   ]
  },
  {
   "cell_type": "markdown",
   "metadata": {},
   "source": [
    "1) Naviguez jusqu'au dossier contenant les fichiers d'environnement.\n",
    "\n",
    "2) Editez le contenu du script bash `create_env.sh` en modifiant la version python, accordément à celle présente sur votre machine.\n",
    "Vous devez avoir une version python >= à 3.6. Si ce n'est pas le cas, installez une distribution python remplissant cette condition. Si vous ne savez pas quelle version de python est installée sur votre machine, utilisez `python3 --version` ou par défaut `python --version`.\n",
    "\n",
    "3) Pour lancer l'environnement, utilisez la commande `source .venv_miscoto/bin/activate` dans le terminal, en étant placé dans le dossier où vous avez créé l'enironnement.\n",
    "\n",
    "4) A ce stade, vous devriez pouvoir vérifier la bonne installation de **miscoto** grâce à la commande `miscoto --version`. Vous pouvez désormais ouvrir le Jupyter Notebook qui contient le sujet du TP avec la commande `jupyter miscoto`.\n",
    "\n",
    "Note : pour quitter l'environnement, utilisez la commande `deactivate` dans le terminal.\n",
    "\n",
    "Vous pouvez par ailleurs retrouver le code source en suivant [ce lien](https://github.com/cfrioux/miscoto)."
   ]
  },
  {
   "cell_type": "markdown",
   "metadata": {},
   "source": [
    "## Partie I - Les rocambolesques aventures de Biscotte, la Chaventurière\n",
    "\n",
    "Dans cette première partie, nous vous proposons de vous familliariser avec les commandes de l'outil.\n",
    "\n",
    "+ Familiariastion avec le format de fichier => OK\n",
    "+ (Représentation sous forme de graphe des fichiers d'exemple ?) => OK\n",
    "+ Exercice à la main avant de lancer la commande miscoto => PAS FAIT\n",
    "+ Faire modifier les fichiers / dessiner un graphe à la base des résultats => PAS FAIT\n",
    "\n",
    "*Dans le village de Sô, champêtre bourgeade perdue parmi les monts, la jeune Biscotte se prépare pour partir à l'aventure. Depuis des semaines, elle entend à la chaverne où elle va se détendre tous les soirs après de dures journées de labeur que dangers et trésors attendent quiconque sera suffisament brave. Probablement enhardie par la boisson, elle s'est décidée à relever tous les défis que ses griffes rencontreraient. Prévoyante quant à son périple, elle a rassemblé de nombreuses victuailles et ressources nécessaires à sa survie, mais il lui manque un bien crucial : une arme pour se battre contre les nombreux dangers sur son chemin. Habile bretteuse, elle escompte bien obtenir une lame enchantée pour l'aider à affronter l'adversité. Bien qu'elle sache enchanter son épée, elle ignore comment la forger. Fort embarassée, elle va devoir requérir aux services d'autres chats de la ville pour obtenir sa rapière, et elle dispose de divers moyens. Plusieurs artisans sont installés en ville : Chachôff un forgeron en CDD, Chalumo l'expert forgeron et Chatastrophe son stagiaire. Par ailleurs, elle sait qu'elle pourrait aussi se procurer chez Chaltimbanque le marchand, qui a déplié son étal ce matin même. Un peu pressée et de nature timide, Biscotte souhaite avoir affaire au moins d'intermédiaires possible.*"
   ]
  },
  {
   "cell_type": "markdown",
   "metadata": {},
   "source": [
    "Vous disposez du dossier `bac_a_chable` pour modéliser la situation. Il contient un certain nombre de fichiers, organisés comme suit :\n",
    "```\n",
    "bac_a_chable/\n",
    "├─ Villageois/\n",
    "│  ├─ CHATASTROPHE.xml\n",
    "│  ├─ CHACHOFF.xml\n",
    "│  ├─ CHALUMO.xml\n",
    "│  ├─ CHALTIMBANQUE.xml\n",
    "├─ BISCOTTE.xml\n",
    "├─ EQUIPEMENTS.xml\n",
    "├─ RESSOURCES.xml\n",
    "```\n",
    "Les **seeds** de votre système sont le fichier `RESSOURCES.xml`. Il contient ce qui est présent dans le milieu naturel.\n",
    "\n",
    "Les **targets** de votre système se trouvent dans le fichier `EQUIPEMENTS.xml`. Il contient ce qui doit être produit.\n",
    "\n",
    "Commencez par charger les packages nécessaires :"
   ]
  },
  {
   "cell_type": "code",
   "execution_count": null,
   "metadata": {},
   "outputs": [],
   "source": [
    "from miscoto import run_focus, run_scopes, run_instance, run_mincom"
   ]
  },
  {
   "cell_type": "markdown",
   "metadata": {},
   "source": [
    "Ouvrez le fichier `EQUIPEMENT.xml` avec un éditeur de texte."
   ]
  },
  {
   "cell_type": "markdown",
   "metadata": {},
   "source": [
    "##### Question 1.1 : Que cherche t'on à produire ?"
   ]
  },
  {
   "cell_type": "markdown",
   "metadata": {},
   "source": [
    "Réponse :"
   ]
  },
  {
   "cell_type": "markdown",
   "metadata": {},
   "source": [
    "Ouvrez le fichier `CHALUMO.xml` avec un éditeur de texte."
   ]
  },
  {
   "cell_type": "markdown",
   "metadata": {},
   "source": [
    "##### Question 1.2 : Dans combien de réaction(s) Chalumo est-il impliqué ? Listez leur(s) nom(s)."
   ]
  },
  {
   "cell_type": "markdown",
   "metadata": {},
   "source": [
    "Réponse :"
   ]
  },
  {
   "cell_type": "markdown",
   "metadata": {},
   "source": [
    "##### Question 1.3 : Choisissez une des réactions de la question précédente. Listez-en les réactifs et les produits."
   ]
  },
  {
   "cell_type": "markdown",
   "metadata": {},
   "source": [
    "Réponse :"
   ]
  },
  {
   "cell_type": "markdown",
   "metadata": {},
   "source": [
    "##### Question 1.4 : Il est possible de vérifier le rôle d'un individu au sein d'un système avec la commande `run_focus` de Miscoto. Exécutez le code ci-dessous. Retrouvez-vous bien ce que votre lecture du fichier XML vous avait permis de déterminer ?\n",
    "\n",
    "Notez que l'option output_json permet d'exporter l'ensemble des résultats dans un fichier json."
   ]
  },
  {
   "cell_type": "code",
   "execution_count": null,
   "metadata": {},
   "outputs": [],
   "source": [
    "run_focus(\n",
    "    bacteria_dir='bac_a_chable/Villageois/',\n",
    "    seeds_file='bac_a_chable/RESSOURCES.xml',\n",
    "    focus_bact='CHALUMO',\n",
    "    output_json='CHALUMO.json',\n",
    ")\n",
    "\n",
    "# Dans le terminal:\n",
    "# ​miscoto focus -b 'bac_a_chable/Villageois/' -s 'bac_a_chable/RESSOURCES.xml' -f 'CHALUMO' --output 'CHALUMO.json'"
   ]
  },
  {
   "cell_type": "markdown",
   "metadata": {},
   "source": [
    "Réponse :"
   ]
  },
  {
   "cell_type": "markdown",
   "metadata": {},
   "source": [
    "La commande `instance` permet de combiner les fichiers xml des différents villageois, ressources et équipements afin d'obtenir un seul fichier combinant toutes les informations. Ce fichier est aussi reformatté afin d'être plus lisible qu'un fichier xml. Il est ainsi plus simple à éditer lorsqu'on souhaite réaliser des modifications sur le système. Vous pouvez lancer la commande suivante qui va générer un fichier \"Village.lp\"."
   ]
  },
  {
   "cell_type": "code",
   "execution_count": null,
   "metadata": {},
   "outputs": [],
   "source": [
    "run_instance(\n",
    "    host_file='bac_a_chable/BISCOTTE.xml',\n",
    "    bacteria_dir='bac_a_chable/Villageois',\n",
    "    seeds_file='bac_a_chable/RESSOURCES.xml',\n",
    "    targets_file='bac_a_chable/EQUIPEMENTS.xml',\n",
    "    output='bac_a_chable/Village.lp'\n",
    "    )\n",
    "# Dans le terminal:\n",
    "# miscoto instance -b 'bac_a_chable/Villageois' -m 'bac_a_chable/BISCOTTE.xml' -s 'bac_a_chable/RESSOURCES.xml' -t 'bac_a_chable/EQUIPEMENTS.xml' --out 'bac_a_chable/Village.lp'"
   ]
  },
  {
   "cell_type": "markdown",
   "metadata": {},
   "source": [
    "##### Ce fichier regroupe les informations associées:\n",
    "- au microbiome (les villageois)\n",
    "- à l'hôte (Biscotte)\n",
    "- aux seeds (les ressources)\n",
    "- aux targets (l'épée magik qu'on souhaite produire)"
   ]
  },
  {
   "cell_type": "markdown",
   "metadata": {},
   "source": [
    "##### Question 1.5 : Ouvrez le fichier et donner la liste des seeds du système:"
   ]
  },
  {
   "cell_type": "markdown",
   "metadata": {},
   "source": [
    "Réponse :"
   ]
  },
  {
   "cell_type": "markdown",
   "metadata": {},
   "source": [
    "##### Question 1.6 : La commande 'scope' permet de se faire une première idée sur les capacités du système. Aidez vous en pour répondre aux questions ci dessous:\n",
    "\n",
    "- Quel équipement (targets) peut produire BISCOTTE (l'hôte) toute seule ?\n",
    "- Quelle est la liste des ressources, transformées ou non, auxquelles Biscotte a accès ? \n",
    "- Est ce qu'il est possible de produire une Epée en faisant appel aux différents villageois ?"
   ]
  },
  {
   "cell_type": "code",
   "execution_count": null,
   "metadata": {},
   "outputs": [],
   "source": [
    "run_scopes(\n",
    "        lp_instance_file=\"bac_a_chable/Village.lp\"\n",
    "        )\n",
    "# Dans le terminal:\n",
    "# miscoto scopes -a 'bac_a_chable/Village.lp'"
   ]
  },
  {
   "cell_type": "markdown",
   "metadata": {},
   "source": [
    "Réponse 1:\n",
    "\n",
    "Réponse 2:\n",
    "\n",
    "Réponse 3:"
   ]
  },
  {
   "cell_type": "markdown",
   "metadata": {},
   "source": [
    "##### Question 1.7 : La commande `run_mincom` de miscoto permet de récupérer les communautés minimales. L'option `soup` renvoie par défaut la première solution si plusieurs solution existent. Lancez la commande. Qui peut aider Biscotte à récupérer une épée ?"
   ]
  },
  {
   "cell_type": "code",
   "execution_count": null,
   "metadata": {},
   "outputs": [],
   "source": [
    "run_mincom(\n",
    "    option='soup',\n",
    "    lp_instance_file=\"bac_a_chable/Village.lp\",\n",
    "    enumeration=False\n",
    ")\n",
    "\n",
    "# Dans le terminal:\n",
    "# ​miscoto mincom -a 'bac_a_chable/Village.lp' -o soup"
   ]
  },
  {
   "cell_type": "markdown",
   "metadata": {},
   "source": [
    "Réponse :"
   ]
  },
  {
   "cell_type": "markdown",
   "metadata": {},
   "source": [
    "##### Question 1.8 : Pour énumérer toutes les solutions possibles, il faut rajouter l'option `--enumeration`. Modifiez la commande précédente afin de lister l'ensemble des choix s'offrant à Biscotte pour récupérer une épée."
   ]
  },
  {
   "cell_type": "markdown",
   "metadata": {},
   "source": [
    "Réponse :"
   ]
  },
  {
   "cell_type": "markdown",
   "metadata": {},
   "source": [
    "##### Question 1.9 : Pour énumérer tous les individus impliqués dans la production d'une épée, il faut cette fois utiliser `--union` à la place d'`enumeration`. Modifiez la commande précédente afin de lister l'union des solutions."
   ]
  },
  {
   "cell_type": "markdown",
   "metadata": {},
   "source": [
    "Réponse :"
   ]
  },
  {
   "cell_type": "markdown",
   "metadata": {},
   "source": [
    "##### Question 1.10 : Avec miscoto, il est possible de trouver la solution présentant le moins d'échanges grâce à l'option `minexch`. Un peu pressée par le temps, Biscotte cherche à récupérer une épée en passant par le minimum d'intermédiaires. Aidez-la à choisir la solution respectant cette contrainte."
   ]
  },
  {
   "cell_type": "code",
   "execution_count": null,
   "metadata": {},
   "outputs": [],
   "source": [
    "run_mincom(\n",
    "    option='minexch',\n",
    "    lp_instance_file=\"bac_a_chable/Village.lp\"\n",
    ")\n",
    "\n",
    "# Dans le terminal:\n",
    "# ​miscoto mincom -a 'bac_a_chable/Village.lp' -o minexch"
   ]
  },
  {
   "cell_type": "markdown",
   "metadata": {},
   "source": [
    "Réponse :"
   ]
  },
  {
   "cell_type": "markdown",
   "metadata": {},
   "source": [
    "##### Question 1.11 : Cette solution est elle meilleure que la précédente ? Pourquoi ?"
   ]
  },
  {
   "cell_type": "markdown",
   "metadata": {},
   "source": [
    "Réponse : Non, les deux font le même nombre d'échanges. Il est possible de le vérifier en tapant la commande suivante :\n",
    "\n",
    "​miscoto mincom -a 'bac_a_chable/Village.lp' -o minexch --enumeration"
   ]
  },
  {
   "cell_type": "markdown",
   "metadata": {},
   "source": [
    "## Partie II - Les rocambolesques aventures des bactéries intestinales d'un humain sous stress"
   ]
  },
  {
   "cell_type": "markdown",
   "metadata": {},
   "source": [
    "L’outil a été utilisé pour étudier le microbiome humain et les fonctions associées en utilisant le dataset généré par une étude centrée sur le microbiote humain (HMP). Cela représente 2051 bactéries et 3606 différentes réactions. L’étude a montré que seulement 8 % des fonctions nécessitaient des coopérations entre un maximum de 6 organismes. Elle a aussi mis à jour de nombreuses redondances de fonction au sein du microbiome. Dans cette partie nous allons reproduire une partie de ces résultats."
   ]
  },
  {
   "cell_type": "markdown",
   "metadata": {},
   "source": [
    "##### Les commandes vu précedemment sont listées ci dessous, utilisez les afin de répondre aux questions suivantes.\n",
    "\n",
    "`SCOPES`\n",
    "\n",
    "Renvoi la plus-value apportée par un groupe à l'environnement.\n",
    "*Exemple : un ensemble de charpentiers dans une forêt peuvent construire une maison.*\n",
    "\n",
    "`FOCUS`\n",
    "\n",
    "Renvoi ce que peut produire un individu au sein du groupe sans prendre en compte ce qu'il a la capacité de produire seul.\n",
    "\n",
    "`INSTANCE`\n",
    "\n",
    "Renvoi la combinaison des fiches de compétences du groupe, ainsi que tout ce qu'il y a dans l'environnement et ce que l'on cherche à obtenir. On obtient en sortie un fichier plus lisible, et plus simple à modifier.\n",
    "\n",
    "`MINCOM`\n",
    "\n",
    "Renvoie la communauté minimale. \n",
    "\n",
    "Options\n",
    "+ **soup** : renvoie une solution de communauté minimale. Elle peut être combinée avec une des deux options suivantes :\n",
    "    + --enumeration : affiche toutes les solutions possibles de communautés minimales. Cette méthode peut prendre du temps sur de gros fichiers.\n",
    "    + --union : liste l'union des individus présents dans les différentes communautés minimales.\n",
    "\n",
    "+ **minexch** : renvoie la communauté minimale avec le plus petit nombre d'échanges parmi toutes les solutions minimales."
   ]
  },
  {
   "cell_type": "markdown",
   "metadata": {},
   "source": []
  },
  {
   "cell_type": "markdown",
   "metadata": {},
   "source": []
  },
  {
   "cell_type": "markdown",
   "metadata": {},
   "source": [
    "BONUS"
   ]
  }
 ],
 "metadata": {
  "kernelspec": {
   "display_name": "Python 3.10.7 64-bit",
   "language": "python",
   "name": "python3"
  },
  "language_info": {
   "codemirror_mode": {
    "name": "ipython",
    "version": 3
   },
   "file_extension": ".py",
   "mimetype": "text/x-python",
   "name": "python",
   "nbconvert_exporter": "python",
   "pygments_lexer": "ipython3",
   "version": "3.10.7"
  },
  "vscode": {
   "interpreter": {
    "hash": "92639febd7a4edc238c21077ad24fc775e7ff9fe2f6491d319ed3b857ceccde2"
   }
  }
 },
 "nbformat": 4,
 "nbformat_minor": 2
}
